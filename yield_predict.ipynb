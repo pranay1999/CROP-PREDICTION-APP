{
 "cells": [
  {
   "cell_type": "code",
   "execution_count": 5,
   "metadata": {},
   "outputs": [],
   "source": [
    "from random import seed\n",
    "from random import randrange\n",
    "from csv import reader\n",
    "from math import sqrt\n",
    "import matplotlib.pyplot as plt\n",
    "import numpy as np\n",
    "import pandas as pd"
   ]
  },
  {
   "cell_type": "code",
   "execution_count": 8,
   "metadata": {},
   "outputs": [
    {
     "data": {
      "text/html": [
       "<div>\n",
       "<style scoped>\n",
       "    .dataframe tbody tr th:only-of-type {\n",
       "        vertical-align: middle;\n",
       "    }\n",
       "\n",
       "    .dataframe tbody tr th {\n",
       "        vertical-align: top;\n",
       "    }\n",
       "\n",
       "    .dataframe thead th {\n",
       "        text-align: right;\n",
       "    }\n",
       "</style>\n",
       "<table border=\"1\" class=\"dataframe\">\n",
       "  <thead>\n",
       "    <tr style=\"text-align: right;\">\n",
       "      <th></th>\n",
       "      <th>Crop</th>\n",
       "      <th>Soil</th>\n",
       "      <th>Temperature</th>\n",
       "      <th>Soil Texture</th>\n",
       "      <th>Soil Colour</th>\n",
       "      <th>Drainage</th>\n",
       "      <th>Water holding capacity</th>\n",
       "      <th>Sunlight</th>\n",
       "      <th>Yield</th>\n",
       "    </tr>\n",
       "  </thead>\n",
       "  <tbody>\n",
       "    <tr>\n",
       "      <th>0</th>\n",
       "      <td>Chilli</td>\n",
       "      <td>Red</td>\n",
       "      <td>31</td>\n",
       "      <td>Sandy</td>\n",
       "      <td>Red</td>\n",
       "      <td>High</td>\n",
       "      <td>Low</td>\n",
       "      <td>hgh</td>\n",
       "      <td>Poor</td>\n",
       "    </tr>\n",
       "    <tr>\n",
       "      <th>1</th>\n",
       "      <td>Tomato</td>\n",
       "      <td>Red</td>\n",
       "      <td>31</td>\n",
       "      <td>Sandy</td>\n",
       "      <td>Red</td>\n",
       "      <td>High</td>\n",
       "      <td>Low</td>\n",
       "      <td>hgh</td>\n",
       "      <td>Good</td>\n",
       "    </tr>\n",
       "    <tr>\n",
       "      <th>2</th>\n",
       "      <td>Potato</td>\n",
       "      <td>Red</td>\n",
       "      <td>31</td>\n",
       "      <td>Sandy</td>\n",
       "      <td>Red</td>\n",
       "      <td>High</td>\n",
       "      <td>Low</td>\n",
       "      <td>hgh</td>\n",
       "      <td>Average</td>\n",
       "    </tr>\n",
       "    <tr>\n",
       "      <th>3</th>\n",
       "      <td>Chilli</td>\n",
       "      <td>Alluvial</td>\n",
       "      <td>31</td>\n",
       "      <td>Loamy</td>\n",
       "      <td>Brown</td>\n",
       "      <td>Medium</td>\n",
       "      <td>Medium</td>\n",
       "      <td>hgh</td>\n",
       "      <td>Good</td>\n",
       "    </tr>\n",
       "    <tr>\n",
       "      <th>4</th>\n",
       "      <td>Tomato</td>\n",
       "      <td>Alluvial</td>\n",
       "      <td>31</td>\n",
       "      <td>Loamy</td>\n",
       "      <td>Brown</td>\n",
       "      <td>Medium</td>\n",
       "      <td>Medium</td>\n",
       "      <td>hgh</td>\n",
       "      <td>Good</td>\n",
       "    </tr>\n",
       "  </tbody>\n",
       "</table>\n",
       "</div>"
      ],
      "text/plain": [
       "     Crop      Soil  Temperature Soil Texture Soil Colour Drainage  \\\n",
       "0  Chilli       Red           31        Sandy         Red     High   \n",
       "1  Tomato       Red           31        Sandy         Red     High   \n",
       "2  Potato       Red           31        Sandy         Red     High   \n",
       "3  Chilli  Alluvial           31        Loamy       Brown   Medium   \n",
       "4  Tomato  Alluvial           31        Loamy       Brown   Medium   \n",
       "\n",
       "  Water holding capacity Sunlight    Yield  \n",
       "0                    Low      hgh     Poor  \n",
       "1                    Low      hgh     Good  \n",
       "2                    Low      hgh  Average  \n",
       "3                 Medium      hgh     Good  \n",
       "4                 Medium      hgh     Good  "
      ]
     },
     "execution_count": 8,
     "metadata": {},
     "output_type": "execute_result"
    }
   ],
   "source": [
    "df=pd.read_csv(r\"C:/Users/vibhu/Downloads/DATASET.csv\")\n",
    "df.head()"
   ]
  },
  {
   "cell_type": "code",
   "execution_count": 15,
   "metadata": {},
   "outputs": [
    {
     "name": "stdout",
     "output_type": "stream",
     "text": [
      "['Sandy' 'Loamy' 'Clayey']\n",
      "['Red' 'Alluvial' 'Black']\n",
      "['Red' 'Brown' 'Black']\n",
      "['High' 'Medium' 'Low' 'Medium ']\n",
      "['Chilli' 'Tomato' 'Potato']\n",
      "['hgh' 'low' 'low-' 'nor-' 'nor' 'HGH' 'nor+']\n",
      "['Low' 'Medium' 'High' 'Medium ']\n",
      "['Poor' 'Good' 'Average' 'average' 'poor' 'Poor ']\n"
     ]
    }
   ],
   "source": [
    "print(df['Soil Texture'].unique())\n",
    "print(df['Soil'].unique())\n",
    "print(df['Soil Colour'].unique())\n",
    "print(df['Drainage'].unique())\n",
    "print(df['Crop'].unique())\n",
    "print(df['Sunlight'].unique())\n",
    "print(df['Water holding capacity'].unique())\n",
    "print(df['Yield'].unique())"
   ]
  },
  {
   "cell_type": "code",
   "execution_count": 16,
   "metadata": {},
   "outputs": [
    {
     "data": {
      "text/plain": [
       "Crop                      0\n",
       "Soil                      0\n",
       "Temperature               0\n",
       "Soil Texture              0\n",
       "Soil Colour               0\n",
       "Drainage                  0\n",
       "Water holding capacity    0\n",
       "Sunlight                  0\n",
       "Yield                     0\n",
       "dtype: int64"
      ]
     },
     "execution_count": 16,
     "metadata": {},
     "output_type": "execute_result"
    }
   ],
   "source": [
    "df.isnull().sum()"
   ]
  },
  {
   "cell_type": "code",
   "execution_count": 25,
   "metadata": {},
   "outputs": [
    {
     "name": "stderr",
     "output_type": "stream",
     "text": [
      "C:\\Users\\vibhu\\Anaconda3\\envs\\ml\\lib\\site-packages\\ipykernel_launcher.py:1: SettingWithCopyWarning: \n",
      "A value is trying to be set on a copy of a slice from a DataFrame\n",
      "\n",
      "See the caveats in the documentation: http://pandas.pydata.org/pandas-docs/stable/indexing.html#indexing-view-versus-copy\n",
      "  \"\"\"Entry point for launching an IPython kernel.\n"
     ]
    }
   ],
   "source": [
    "df['Drainage'][df['Drainage'] == 'Medium '] = 'Medium'"
   ]
  },
  {
   "cell_type": "code",
   "execution_count": 32,
   "metadata": {},
   "outputs": [
    {
     "data": {
      "text/plain": [
       "(3464, 3464)"
      ]
     },
     "execution_count": 32,
     "metadata": {},
     "output_type": "execute_result"
    }
   ],
   "source": [
    "sum(df['Drainage'] == 'Medium') + sum(df['Drainage'] == 'Low') + sum(df['Drainage'] == 'High'),len(df)"
   ]
  },
  {
   "cell_type": "code",
   "execution_count": 37,
   "metadata": {},
   "outputs": [
    {
     "name": "stderr",
     "output_type": "stream",
     "text": [
      "C:\\Users\\vibhu\\Anaconda3\\envs\\ml\\lib\\site-packages\\ipykernel_launcher.py:1: SettingWithCopyWarning: \n",
      "A value is trying to be set on a copy of a slice from a DataFrame\n",
      "\n",
      "See the caveats in the documentation: http://pandas.pydata.org/pandas-docs/stable/indexing.html#indexing-view-versus-copy\n",
      "  \"\"\"Entry point for launching an IPython kernel.\n"
     ]
    }
   ],
   "source": [
    "df['Water holding capacity'][df['Water holding capacity'] == 'Medium '] = 'Medium'"
   ]
  },
  {
   "cell_type": "code",
   "execution_count": 41,
   "metadata": {},
   "outputs": [
    {
     "data": {
      "text/plain": [
       "(3464, 3464)"
      ]
     },
     "execution_count": 41,
     "metadata": {},
     "output_type": "execute_result"
    }
   ],
   "source": [
    "sum(df['Water holding capacity'] == 'Medium') + sum(df['Water holding capacity'] == 'Low') + sum(df['Water holding capacity'] == 'High'),len(df)"
   ]
  },
  {
   "cell_type": "code",
   "execution_count": 48,
   "metadata": {},
   "outputs": [
    {
     "name": "stderr",
     "output_type": "stream",
     "text": [
      "C:\\Users\\vibhu\\Anaconda3\\envs\\ml\\lib\\site-packages\\ipykernel_launcher.py:1: SettingWithCopyWarning: \n",
      "A value is trying to be set on a copy of a slice from a DataFrame\n",
      "\n",
      "See the caveats in the documentation: http://pandas.pydata.org/pandas-docs/stable/indexing.html#indexing-view-versus-copy\n",
      "  \"\"\"Entry point for launching an IPython kernel.\n",
      "C:\\Users\\vibhu\\Anaconda3\\envs\\ml\\lib\\site-packages\\ipykernel_launcher.py:2: SettingWithCopyWarning: \n",
      "A value is trying to be set on a copy of a slice from a DataFrame\n",
      "\n",
      "See the caveats in the documentation: http://pandas.pydata.org/pandas-docs/stable/indexing.html#indexing-view-versus-copy\n",
      "  \n"
     ]
    }
   ],
   "source": [
    "df['Yield'][df['Yield'] == 'poor'] = 'Poor'\n",
    "df['Yield'][df['Yield'] == 'Poor '] = 'Poor'"
   ]
  },
  {
   "cell_type": "code",
   "execution_count": 50,
   "metadata": {},
   "outputs": [
    {
     "name": "stderr",
     "output_type": "stream",
     "text": [
      "C:\\Users\\vibhu\\Anaconda3\\envs\\ml\\lib\\site-packages\\ipykernel_launcher.py:1: SettingWithCopyWarning: \n",
      "A value is trying to be set on a copy of a slice from a DataFrame\n",
      "\n",
      "See the caveats in the documentation: http://pandas.pydata.org/pandas-docs/stable/indexing.html#indexing-view-versus-copy\n",
      "  \"\"\"Entry point for launching an IPython kernel.\n"
     ]
    }
   ],
   "source": [
    "df['Yield'][df['Yield'] == 'average'] = 'Average'"
   ]
  },
  {
   "cell_type": "code",
   "execution_count": 51,
   "metadata": {},
   "outputs": [
    {
     "name": "stdout",
     "output_type": "stream",
     "text": [
      "['Sandy' 'Loamy' 'Clayey']\n",
      "['Red' 'Alluvial' 'Black']\n",
      "['Red' 'Brown' 'Black']\n",
      "['High' 'Medium' 'Low']\n",
      "['Chilli' 'Tomato' 'Potato']\n",
      "['hgh' 'low' 'low-' 'nor-' 'nor' 'HGH' 'nor+']\n",
      "['Low' 'Medium' 'High']\n",
      "['Poor' 'Good' 'Average']\n"
     ]
    }
   ],
   "source": [
    "print(df['Soil Texture'].unique())\n",
    "print(df['Soil'].unique())\n",
    "print(df['Soil Colour'].unique())\n",
    "print(df['Drainage'].unique())\n",
    "print(df['Crop'].unique())\n",
    "print(df['Sunlight'].unique())\n",
    "print(df['Water holding capacity'].unique())\n",
    "print(df['Yield'].unique())"
   ]
  },
  {
   "cell_type": "code",
   "execution_count": 55,
   "metadata": {},
   "outputs": [
    {
     "name": "stderr",
     "output_type": "stream",
     "text": [
      "C:\\Users\\vibhu\\Anaconda3\\envs\\ml\\lib\\site-packages\\ipykernel_launcher.py:1: SettingWithCopyWarning: \n",
      "A value is trying to be set on a copy of a slice from a DataFrame\n",
      "\n",
      "See the caveats in the documentation: http://pandas.pydata.org/pandas-docs/stable/indexing.html#indexing-view-versus-copy\n",
      "  \"\"\"Entry point for launching an IPython kernel.\n"
     ]
    }
   ],
   "source": [
    "df['Sunlight'][df['Sunlight'] == 'nor+'] = 'nor' "
   ]
  },
  {
   "cell_type": "code",
   "execution_count": 56,
   "metadata": {},
   "outputs": [
    {
     "name": "stderr",
     "output_type": "stream",
     "text": [
      "C:\\Users\\vibhu\\Anaconda3\\envs\\ml\\lib\\site-packages\\ipykernel_launcher.py:1: SettingWithCopyWarning: \n",
      "A value is trying to be set on a copy of a slice from a DataFrame\n",
      "\n",
      "See the caveats in the documentation: http://pandas.pydata.org/pandas-docs/stable/indexing.html#indexing-view-versus-copy\n",
      "  \"\"\"Entry point for launching an IPython kernel.\n"
     ]
    }
   ],
   "source": [
    "df['Sunlight'][df['Sunlight'] == 'HGH'] = 'hgh' "
   ]
  },
  {
   "cell_type": "code",
   "execution_count": 58,
   "metadata": {},
   "outputs": [
    {
     "name": "stdout",
     "output_type": "stream",
     "text": [
      "['Sandy' 'Loamy' 'Clayey']\n",
      "['Red' 'Alluvial' 'Black']\n",
      "['Red' 'Brown' 'Black']\n",
      "['High' 'Medium' 'Low']\n",
      "['Chilli' 'Tomato' 'Potato']\n",
      "['hgh' 'low' 'low-' 'nor-' 'nor']\n",
      "['Low' 'Medium' 'High']\n",
      "['Poor' 'Good' 'Average']\n"
     ]
    }
   ],
   "source": [
    "print(df['Soil Texture'].unique())\n",
    "print(df['Soil'].unique())\n",
    "print(df['Soil Colour'].unique())\n",
    "print(df['Drainage'].unique())\n",
    "print(df['Crop'].unique())\n",
    "print(df['Sunlight'].unique())\n",
    "print(df['Water holding capacity'].unique())\n",
    "print(df['Yield'].unique())"
   ]
  },
  {
   "cell_type": "code",
   "execution_count": 81,
   "metadata": {
    "collapsed": true
   },
   "outputs": [],
   "source": [
    "df.to_csv(\"C:/Users/vibhu/Downloads/updated_dataset.csv\")"
   ]
  },
  {
   "cell_type": "code",
   "execution_count": 89,
   "metadata": {},
   "outputs": [
    {
     "name": "stdout",
     "output_type": "stream",
     "text": [
      "        Crop      Soil  Temperature Soil Texture Soil Colour Drainage  \\\n",
      "0     Chilli       Red           31        Sandy         Red     High   \n",
      "1     Tomato       Red           31        Sandy         Red     High   \n",
      "2     Potato       Red           31        Sandy         Red     High   \n",
      "3     Chilli  Alluvial           31        Loamy       Brown   Medium   \n",
      "4     Tomato  Alluvial           31        Loamy       Brown   Medium   \n",
      "5     Chilli       Red           32        Sandy         Red     High   \n",
      "6     Tomato       Red           31        Sandy         Red     High   \n",
      "7     Potato       Red           32        Sandy         Red     High   \n",
      "8     Chilli  Alluvial           31        Loamy       Brown   Medium   \n",
      "9     Tomato  Alluvial           31        Loamy       Brown   Medium   \n",
      "10    Chilli       Red           31        Sandy         Red     High   \n",
      "11    Tomato       Red           32        Sandy         Red     High   \n",
      "12    Potato       Red           31        Sandy         Red     High   \n",
      "13    Chilli  Alluvial           31        Loamy       Brown   Medium   \n",
      "14    Tomato  Alluvial           31        Loamy       Brown   Medium   \n",
      "15    Chilli       Red           31        Sandy         Red     High   \n",
      "16    Tomato       Red           31        Sandy         Red     High   \n",
      "17    Potato       Red           31        Sandy         Red     High   \n",
      "18    Chilli  Alluvial           31        Loamy       Brown   Medium   \n",
      "19    Tomato  Alluvial           31        Loamy       Brown   Medium   \n",
      "20    Chilli       Red           31        Sandy         Red     High   \n",
      "21    Tomato       Red           31        Sandy         Red     High   \n",
      "22    Potato       Red           31        Sandy         Red     High   \n",
      "23    Chilli  Alluvial           31        Loamy       Brown   Medium   \n",
      "24    Tomato  Alluvial           31        Loamy       Brown   Medium   \n",
      "25    Chilli       Red           36        Sandy         Red     High   \n",
      "26    Tomato       Red           35        Sandy         Red     High   \n",
      "27    Potato       Red           36        Sandy         Red     High   \n",
      "28    Chilli  Alluvial           36        Loamy       Brown   Medium   \n",
      "29    Tomato  Alluvial           35        Loamy       Brown   Medium   \n",
      "...      ...       ...          ...          ...         ...      ...   \n",
      "3434  Chilli     Black           29       Clayey       Black      Low   \n",
      "3435  Tomato     Black           27       Clayey       Black      Low   \n",
      "3436  Potato     Black           28       Clayey       Black      Low   \n",
      "3437  Chilli  Alluvial           26        Loamy       Brown   Medium   \n",
      "3438  Potato  Alluvial           25        Loamy       Brown   Medium   \n",
      "3439  Chilli     Black           27       Clayey       Black      Low   \n",
      "3440  Tomato     Black           29       Clayey       Black      Low   \n",
      "3441  Potato     Black           29       Clayey       Black      Low   \n",
      "3442  Chilli  Alluvial           29        Loamy       Brown   Medium   \n",
      "3443  Potato  Alluvial           29        Loamy       Brown   Medium   \n",
      "3444  Chilli     Black           30       Clayey       Black      Low   \n",
      "3445  Tomato     Black           30       Clayey       Black      Low   \n",
      "3446  Potato     Black           30       Clayey       Black      Low   \n",
      "3447  Chilli  Alluvial           30        Loamy       Brown   Medium   \n",
      "3448  Potato  Alluvial           30        Loamy       Brown   Medium   \n",
      "3449  Chilli     Black           30       Clayey       Black      Low   \n",
      "3450  Tomato     Black           32       Clayey       Black      Low   \n",
      "3451  Potato     Black           31       Clayey       Black      Low   \n",
      "3452  Chilli  Alluvial           32        Loamy       Brown   Medium   \n",
      "3453  Potato  Alluvial           32        Loamy       Brown   Medium   \n",
      "3454  Chilli     Black           32       Clayey       Black      Low   \n",
      "3455  Tomato     Black           31       Clayey       Black      Low   \n",
      "3456  Potato     Black           32       Clayey       Black      Low   \n",
      "3457  Chilli  Alluvial           32        Loamy       Brown   Medium   \n",
      "3458  Potato  Alluvial           32        Loamy       Brown   Medium   \n",
      "3459  Chilli     Black           32       Clayey       Black      Low   \n",
      "3460  Tomato     Black           32       Clayey       Black      Low   \n",
      "3461  Potato     Black           31       Clayey       Black      Low   \n",
      "3462  Chilli  Alluvial           31        Loamy       Brown   Medium   \n",
      "3463  Potato  Alluvial           30        Loamy       Brown   Medium   \n",
      "\n",
      "     Water holding capacity Sunlight    Yield  \n",
      "0                       Low      hgh     Poor  \n",
      "1                       Low      hgh     Good  \n",
      "2                       Low      hgh  Average  \n",
      "3                    Medium      hgh     Good  \n",
      "4                    Medium      hgh     Good  \n",
      "5                       Low      hgh     Poor  \n",
      "6                       Low      hgh     Good  \n",
      "7                       Low      hgh  Average  \n",
      "8                    Medium      hgh     Good  \n",
      "9                    Medium      hgh     Good  \n",
      "10                      Low      hgh     Poor  \n",
      "11                      Low      hgh     Good  \n",
      "12                      Low      hgh  Average  \n",
      "13                   Medium      hgh     Good  \n",
      "14                   Medium      hgh     Good  \n",
      "15                      Low      hgh     Poor  \n",
      "16                      Low      hgh     Good  \n",
      "17                      Low      hgh  Average  \n",
      "18                   Medium      hgh     Good  \n",
      "19                   Medium      hgh     Good  \n",
      "20                      Low      hgh     Poor  \n",
      "21                      Low      hgh     Good  \n",
      "22                      Low      hgh  Average  \n",
      "23                   Medium      hgh     Good  \n",
      "24                   Medium      hgh     Good  \n",
      "25                      Low      hgh     Poor  \n",
      "26                      Low      hgh     Good  \n",
      "27                      Low      hgh  Average  \n",
      "28                   Medium      hgh     Good  \n",
      "29                   Medium      hgh     Good  \n",
      "...                     ...      ...      ...  \n",
      "3434                   High      low     Good  \n",
      "3435                   High      low  Average  \n",
      "3436                   High      low  Average  \n",
      "3437                 Medium      low     Poor  \n",
      "3438                 Medium      low     Good  \n",
      "3439                   High      low  Average  \n",
      "3440                   High      low  Average  \n",
      "3441                   High      low     Poor  \n",
      "3442                 Medium      low     Good  \n",
      "3443                 Medium      low  Average  \n",
      "3444                   High      low  Average  \n",
      "3445                   High      low     Poor  \n",
      "3446                   High      low     Good  \n",
      "3447                 Medium      low  Average  \n",
      "3448                 Medium      low  Average  \n",
      "3449                   High      low     Poor  \n",
      "3450                   High      low     Good  \n",
      "3451                   High      low  Average  \n",
      "3452                 Medium      low  Average  \n",
      "3453                 Medium      low  Average  \n",
      "3454                   High      low  Average  \n",
      "3455                   High      low     Poor  \n",
      "3456                   High      low     Good  \n",
      "3457                 Medium      low  Average  \n",
      "3458                 Medium      low  Average  \n",
      "3459                   High      low     Poor  \n",
      "3460                   High      low     Good  \n",
      "3461                   High      low  Average  \n",
      "3462                 Medium      low  Average  \n",
      "3463                 Medium      low     Poor  \n",
      "\n",
      "[3464 rows x 9 columns]\n"
     ]
    }
   ],
   "source": [
    "df.columns\n",
    "\n",
    "final_dataset=df[['Crop', 'Soil', 'Temperature', 'Soil Texture', 'Soil Colour',\n",
    "       'Drainage', 'Water holding capacity', 'Sunlight', 'Yield']]\n",
    "\n",
    "print(final_dataset)"
   ]
  },
  {
   "cell_type": "code",
   "execution_count": 90,
   "metadata": {},
   "outputs": [],
   "source": [
    "from sklearn.preprocessing import LabelEncoder\n"
   ]
  },
  {
   "cell_type": "code",
   "execution_count": 91,
   "metadata": {},
   "outputs": [],
   "source": [
    "y = df['Yield'].values\n",
    "le = LabelEncoder()\n",
    "y_labeled = le.fit_transform(y)"
   ]
  },
  {
   "cell_type": "code",
   "execution_count": null,
   "metadata": {
    "collapsed": true
   },
   "outputs": [],
   "source": []
  },
  {
   "cell_type": "code",
   "execution_count": 92,
   "metadata": {},
   "outputs": [
    {
     "data": {
      "text/plain": [
       "(array(['Poor', 'Good', 'Average', ..., 'Average', 'Average', 'Poor'],\n",
       "       dtype=object), array([2, 1, 0, ..., 0, 0, 2]))"
      ]
     },
     "execution_count": 92,
     "metadata": {},
     "output_type": "execute_result"
    }
   ],
   "source": [
    "y, y_labeled"
   ]
  },
  {
   "cell_type": "code",
   "execution_count": 93,
   "metadata": {
    "collapsed": true
   },
   "outputs": [],
   "source": [
    "final_dataset=pd.get_dummies(final_dataset)"
   ]
  },
  {
   "cell_type": "code",
   "execution_count": 94,
   "metadata": {},
   "outputs": [
    {
     "data": {
      "text/html": [
       "<div>\n",
       "<style scoped>\n",
       "    .dataframe tbody tr th:only-of-type {\n",
       "        vertical-align: middle;\n",
       "    }\n",
       "\n",
       "    .dataframe tbody tr th {\n",
       "        vertical-align: top;\n",
       "    }\n",
       "\n",
       "    .dataframe thead th {\n",
       "        text-align: right;\n",
       "    }\n",
       "</style>\n",
       "<table border=\"1\" class=\"dataframe\">\n",
       "  <thead>\n",
       "    <tr style=\"text-align: right;\">\n",
       "      <th></th>\n",
       "      <th>Temperature</th>\n",
       "      <th>Crop_Chilli</th>\n",
       "      <th>Crop_Potato</th>\n",
       "      <th>Crop_Tomato</th>\n",
       "      <th>Soil_Alluvial</th>\n",
       "      <th>Soil_Black</th>\n",
       "      <th>Soil_Red</th>\n",
       "      <th>Soil Texture_Clayey</th>\n",
       "      <th>Soil Texture_Loamy</th>\n",
       "      <th>Soil Texture_Sandy</th>\n",
       "      <th>...</th>\n",
       "      <th>Water holding capacity_Low</th>\n",
       "      <th>Water holding capacity_Medium</th>\n",
       "      <th>Sunlight_hgh</th>\n",
       "      <th>Sunlight_low</th>\n",
       "      <th>Sunlight_low-</th>\n",
       "      <th>Sunlight_nor</th>\n",
       "      <th>Sunlight_nor-</th>\n",
       "      <th>Yield_Average</th>\n",
       "      <th>Yield_Good</th>\n",
       "      <th>Yield_Poor</th>\n",
       "    </tr>\n",
       "  </thead>\n",
       "  <tbody>\n",
       "    <tr>\n",
       "      <th>0</th>\n",
       "      <td>31</td>\n",
       "      <td>1</td>\n",
       "      <td>0</td>\n",
       "      <td>0</td>\n",
       "      <td>0</td>\n",
       "      <td>0</td>\n",
       "      <td>1</td>\n",
       "      <td>0</td>\n",
       "      <td>0</td>\n",
       "      <td>1</td>\n",
       "      <td>...</td>\n",
       "      <td>1</td>\n",
       "      <td>0</td>\n",
       "      <td>1</td>\n",
       "      <td>0</td>\n",
       "      <td>0</td>\n",
       "      <td>0</td>\n",
       "      <td>0</td>\n",
       "      <td>0</td>\n",
       "      <td>0</td>\n",
       "      <td>1</td>\n",
       "    </tr>\n",
       "    <tr>\n",
       "      <th>1</th>\n",
       "      <td>31</td>\n",
       "      <td>0</td>\n",
       "      <td>0</td>\n",
       "      <td>1</td>\n",
       "      <td>0</td>\n",
       "      <td>0</td>\n",
       "      <td>1</td>\n",
       "      <td>0</td>\n",
       "      <td>0</td>\n",
       "      <td>1</td>\n",
       "      <td>...</td>\n",
       "      <td>1</td>\n",
       "      <td>0</td>\n",
       "      <td>1</td>\n",
       "      <td>0</td>\n",
       "      <td>0</td>\n",
       "      <td>0</td>\n",
       "      <td>0</td>\n",
       "      <td>0</td>\n",
       "      <td>1</td>\n",
       "      <td>0</td>\n",
       "    </tr>\n",
       "    <tr>\n",
       "      <th>2</th>\n",
       "      <td>31</td>\n",
       "      <td>0</td>\n",
       "      <td>1</td>\n",
       "      <td>0</td>\n",
       "      <td>0</td>\n",
       "      <td>0</td>\n",
       "      <td>1</td>\n",
       "      <td>0</td>\n",
       "      <td>0</td>\n",
       "      <td>1</td>\n",
       "      <td>...</td>\n",
       "      <td>1</td>\n",
       "      <td>0</td>\n",
       "      <td>1</td>\n",
       "      <td>0</td>\n",
       "      <td>0</td>\n",
       "      <td>0</td>\n",
       "      <td>0</td>\n",
       "      <td>1</td>\n",
       "      <td>0</td>\n",
       "      <td>0</td>\n",
       "    </tr>\n",
       "    <tr>\n",
       "      <th>3</th>\n",
       "      <td>31</td>\n",
       "      <td>1</td>\n",
       "      <td>0</td>\n",
       "      <td>0</td>\n",
       "      <td>1</td>\n",
       "      <td>0</td>\n",
       "      <td>0</td>\n",
       "      <td>0</td>\n",
       "      <td>1</td>\n",
       "      <td>0</td>\n",
       "      <td>...</td>\n",
       "      <td>0</td>\n",
       "      <td>1</td>\n",
       "      <td>1</td>\n",
       "      <td>0</td>\n",
       "      <td>0</td>\n",
       "      <td>0</td>\n",
       "      <td>0</td>\n",
       "      <td>0</td>\n",
       "      <td>1</td>\n",
       "      <td>0</td>\n",
       "    </tr>\n",
       "    <tr>\n",
       "      <th>4</th>\n",
       "      <td>31</td>\n",
       "      <td>0</td>\n",
       "      <td>0</td>\n",
       "      <td>1</td>\n",
       "      <td>1</td>\n",
       "      <td>0</td>\n",
       "      <td>0</td>\n",
       "      <td>0</td>\n",
       "      <td>1</td>\n",
       "      <td>0</td>\n",
       "      <td>...</td>\n",
       "      <td>0</td>\n",
       "      <td>1</td>\n",
       "      <td>1</td>\n",
       "      <td>0</td>\n",
       "      <td>0</td>\n",
       "      <td>0</td>\n",
       "      <td>0</td>\n",
       "      <td>0</td>\n",
       "      <td>1</td>\n",
       "      <td>0</td>\n",
       "    </tr>\n",
       "  </tbody>\n",
       "</table>\n",
       "<p>5 rows × 27 columns</p>\n",
       "</div>"
      ],
      "text/plain": [
       "   Temperature  Crop_Chilli  Crop_Potato  Crop_Tomato  Soil_Alluvial  \\\n",
       "0           31            1            0            0              0   \n",
       "1           31            0            0            1              0   \n",
       "2           31            0            1            0              0   \n",
       "3           31            1            0            0              1   \n",
       "4           31            0            0            1              1   \n",
       "\n",
       "   Soil_Black  Soil_Red  Soil Texture_Clayey  Soil Texture_Loamy  \\\n",
       "0           0         1                    0                   0   \n",
       "1           0         1                    0                   0   \n",
       "2           0         1                    0                   0   \n",
       "3           0         0                    0                   1   \n",
       "4           0         0                    0                   1   \n",
       "\n",
       "   Soil Texture_Sandy  ...  Water holding capacity_Low  \\\n",
       "0                   1  ...                           1   \n",
       "1                   1  ...                           1   \n",
       "2                   1  ...                           1   \n",
       "3                   0  ...                           0   \n",
       "4                   0  ...                           0   \n",
       "\n",
       "   Water holding capacity_Medium  Sunlight_hgh  Sunlight_low  Sunlight_low-  \\\n",
       "0                              0             1             0              0   \n",
       "1                              0             1             0              0   \n",
       "2                              0             1             0              0   \n",
       "3                              1             1             0              0   \n",
       "4                              1             1             0              0   \n",
       "\n",
       "   Sunlight_nor  Sunlight_nor-  Yield_Average  Yield_Good  Yield_Poor  \n",
       "0             0              0              0           0           1  \n",
       "1             0              0              0           1           0  \n",
       "2             0              0              1           0           0  \n",
       "3             0              0              0           1           0  \n",
       "4             0              0              0           1           0  \n",
       "\n",
       "[5 rows x 27 columns]"
      ]
     },
     "execution_count": 94,
     "metadata": {},
     "output_type": "execute_result"
    }
   ],
   "source": [
    "final_dataset.head()"
   ]
  },
  {
   "cell_type": "code",
   "execution_count": 104,
   "metadata": {},
   "outputs": [
    {
     "data": {
      "text/plain": [
       "Index(['Temperature', 'Crop_Chilli', 'Crop_Potato', 'Crop_Tomato',\n",
       "       'Soil_Alluvial', 'Soil_Black', 'Soil_Red', 'Soil Texture_Clayey',\n",
       "       'Soil Texture_Loamy', 'Soil Texture_Sandy', 'Soil Colour_Black',\n",
       "       'Soil Colour_Brown', 'Soil Colour_Red', 'Drainage_High', 'Drainage_Low',\n",
       "       'Drainage_Medium', 'Water holding capacity_High',\n",
       "       'Water holding capacity_Low', 'Water holding capacity_Medium',\n",
       "       'Sunlight_hgh', 'Sunlight_low', 'Sunlight_low-', 'Sunlight_nor',\n",
       "       'Sunlight_nor-', 'Yield_Average', 'Yield_Good', 'Yield_Poor'],\n",
       "      dtype='object')"
      ]
     },
     "execution_count": 104,
     "metadata": {},
     "output_type": "execute_result"
    }
   ],
   "source": [
    "final_dataset.columns"
   ]
  },
  {
   "cell_type": "code",
   "execution_count": 107,
   "metadata": {},
   "outputs": [],
   "source": [
    "del final_dataset['Yield_Average']\n",
    "del final_dataset['Yield_Good']\n",
    "del final_dataset['Yield_Poor']"
   ]
  },
  {
   "cell_type": "code",
   "execution_count": 109,
   "metadata": {},
   "outputs": [
    {
     "data": {
      "text/plain": [
       "Index(['Temperature', 'Crop_Chilli', 'Crop_Potato', 'Crop_Tomato',\n",
       "       'Soil_Alluvial', 'Soil_Black', 'Soil_Red', 'Soil Texture_Clayey',\n",
       "       'Soil Texture_Loamy', 'Soil Texture_Sandy', 'Soil Colour_Black',\n",
       "       'Soil Colour_Brown', 'Soil Colour_Red', 'Drainage_High', 'Drainage_Low',\n",
       "       'Drainage_Medium', 'Water holding capacity_High',\n",
       "       'Water holding capacity_Low', 'Water holding capacity_Medium',\n",
       "       'Sunlight_hgh', 'Sunlight_low', 'Sunlight_low-', 'Sunlight_nor',\n",
       "       'Sunlight_nor-'],\n",
       "      dtype='object')"
      ]
     },
     "execution_count": 109,
     "metadata": {},
     "output_type": "execute_result"
    }
   ],
   "source": [
    "final_dataset.columns"
   ]
  },
  {
   "cell_type": "code",
   "execution_count": 114,
   "metadata": {
    "collapsed": true
   },
   "outputs": [],
   "source": [
    "final_data = final_dataset.values"
   ]
  },
  {
   "cell_type": "code",
   "execution_count": null,
   "metadata": {},
   "outputs": [],
   "source": []
  },
  {
   "cell_type": "code",
   "execution_count": 96,
   "metadata": {
    "collapsed": true
   },
   "outputs": [],
   "source": [
    "from sklearn.ensemble import RandomForestClassifier\n",
    "clf = RandomForestClassifier()"
   ]
  },
  {
   "cell_type": "code",
   "execution_count": 97,
   "metadata": {},
   "outputs": [
    {
     "name": "stdout",
     "output_type": "stream",
     "text": [
      "[100, 200, 300, 400, 500, 600, 700, 800, 900, 1000, 1100, 1200]\n"
     ]
    }
   ],
   "source": [
    "n_estimators = [int(x) for x in np.linspace(start = 100, stop = 1200, num = 12)]\n",
    "print(n_estimators)"
   ]
  },
  {
   "cell_type": "code",
   "execution_count": 101,
   "metadata": {
    "collapsed": true
   },
   "outputs": [],
   "source": [
    "from sklearn.model_selection import RandomizedSearchCV\n",
    "\n",
    "n_estimators = [int(x) for x in np.linspace(start = 100, stop = 1200, num = 12)]\n",
    "# Number of features to consider at every split\n",
    "# max_features = ['auto', 'sqrt']\n",
    "# Maximum number of levels in tree\n",
    "max_depth = [int(x) for x in np.linspace(5, 30, num = 6)]\n",
    "# max_depth.append(None)\n",
    "# Minimum number of samples required to split a node\n",
    "min_samples_split = [2, 5, 10, 15, 100]\n",
    "# Minimum number of samples required at each leaf node\n",
    "min_samples_leaf = [1, 2, 5, 10]"
   ]
  },
  {
   "cell_type": "code",
   "execution_count": 100,
   "metadata": {
    "collapsed": true
   },
   "outputs": [],
   "source": [
    "grid = {'n_estimators': n_estimators,\n",
    "               'max_features': max_features,\n",
    "               'max_depth': max_depth,\n",
    "               'min_samples_split': min_samples_split,\n",
    "               'min_samples_leaf': min_samples_leaf}"
   ]
  },
  {
   "cell_type": "code",
   "execution_count": 103,
   "metadata": {
    "collapsed": true
   },
   "outputs": [],
   "source": [
    "from sklearn.model_selection import GridSearchCV\n",
    "from sklearn.model_selection import train_test_split"
   ]
  },
  {
   "cell_type": "code",
   "execution_count": 120,
   "metadata": {
    "collapsed": true
   },
   "outputs": [],
   "source": [
    "x_train, x_test, y_train, y_test = train_test_split(final_data, y_labeled, test_size = 0.2)"
   ]
  },
  {
   "cell_type": "code",
   "execution_count": 121,
   "metadata": {},
   "outputs": [
    {
     "data": {
      "text/plain": [
       "((2771,), (693,), (2771, 24), (693, 24))"
      ]
     },
     "execution_count": 121,
     "metadata": {},
     "output_type": "execute_result"
    }
   ],
   "source": [
    "y_train.shape, y_test.shape, x_train.shape, x_test.shape"
   ]
  },
  {
   "cell_type": "code",
   "execution_count": 122,
   "metadata": {
    "collapsed": true
   },
   "outputs": [],
   "source": [
    "gs = GridSearchCV(estimator=clf, param_grid=grid, cv=5, verbose=2)"
   ]
  },
  {
   "cell_type": "code",
   "execution_count": 123,
   "metadata": {},
   "outputs": [
    {
     "name": "stdout",
     "output_type": "stream",
     "text": [
      "Fitting 5 folds for each of 2880 candidates, totalling 14400 fits\n",
      "[CV] max_depth=5, min_samples_split=2, min_samples_leaf=1, n_estimators=100, max_features=auto \n",
      "[CV]  max_depth=5, min_samples_split=2, min_samples_leaf=1, n_estimators=100, max_features=auto, total=   0.2s\n",
      "[CV] max_depth=5, min_samples_split=2, min_samples_leaf=1, n_estimators=100, max_features=auto \n"
     ]
    },
    {
     "name": "stderr",
     "output_type": "stream",
     "text": [
      "[Parallel(n_jobs=1)]: Using backend SequentialBackend with 1 concurrent workers.\n",
      "[Parallel(n_jobs=1)]: Done   1 out of   1 | elapsed:    0.1s remaining:    0.0s\n"
     ]
    },
    {
     "name": "stdout",
     "output_type": "stream",
     "text": [
      "[CV]  max_depth=5, min_samples_split=2, min_samples_leaf=1, n_estimators=100, max_features=auto, total=   0.2s\n",
      "[CV] max_depth=5, min_samples_split=2, min_samples_leaf=1, n_estimators=100, max_features=auto \n",
      "[CV]  max_depth=5, min_samples_split=2, min_samples_leaf=1, n_estimators=100, max_features=auto, total=   0.2s\n",
      "[CV] max_depth=5, min_samples_split=2, min_samples_leaf=1, n_estimators=100, max_features=auto \n",
      "[CV]  max_depth=5, min_samples_split=2, min_samples_leaf=1, n_estimators=100, max_features=auto, total=   0.2s\n",
      "[CV] max_depth=5, min_samples_split=2, min_samples_leaf=1, n_estimators=100, max_features=auto \n",
      "[CV]  max_depth=5, min_samples_split=2, min_samples_leaf=1, n_estimators=100, max_features=auto, total=   0.1s\n",
      "[CV] max_depth=5, min_samples_split=2, min_samples_leaf=1, n_estimators=200, max_features=auto \n",
      "[CV]  max_depth=5, min_samples_split=2, min_samples_leaf=1, n_estimators=200, max_features=auto, total=   0.3s\n",
      "[CV] max_depth=5, min_samples_split=2, min_samples_leaf=1, n_estimators=200, max_features=auto \n",
      "[CV]  max_depth=5, min_samples_split=2, min_samples_leaf=1, n_estimators=200, max_features=auto, total=   0.3s\n",
      "[CV] max_depth=5, min_samples_split=2, min_samples_leaf=1, n_estimators=200, max_features=auto \n",
      "[CV]  max_depth=5, min_samples_split=2, min_samples_leaf=1, n_estimators=200, max_features=auto, total=   0.4s\n",
      "[CV] max_depth=5, min_samples_split=2, min_samples_leaf=1, n_estimators=200, max_features=auto \n",
      "[CV]  max_depth=5, min_samples_split=2, min_samples_leaf=1, n_estimators=200, max_features=auto, total=   0.3s\n",
      "[CV] max_depth=5, min_samples_split=2, min_samples_leaf=1, n_estimators=200, max_features=auto \n",
      "[CV]  max_depth=5, min_samples_split=2, min_samples_leaf=1, n_estimators=200, max_features=auto, total=   0.3s\n",
      "[CV] max_depth=5, min_samples_split=2, min_samples_leaf=1, n_estimators=300, max_features=auto \n",
      "[CV]  max_depth=5, min_samples_split=2, min_samples_leaf=1, n_estimators=300, max_features=auto, total=   0.4s\n",
      "[CV] max_depth=5, min_samples_split=2, min_samples_leaf=1, n_estimators=300, max_features=auto \n",
      "[CV]  max_depth=5, min_samples_split=2, min_samples_leaf=1, n_estimators=300, max_features=auto, total=   0.5s\n",
      "[CV] max_depth=5, min_samples_split=2, min_samples_leaf=1, n_estimators=300, max_features=auto \n",
      "[CV]  max_depth=5, min_samples_split=2, min_samples_leaf=1, n_estimators=300, max_features=auto, total=   0.5s\n",
      "[CV] max_depth=5, min_samples_split=2, min_samples_leaf=1, n_estimators=300, max_features=auto \n",
      "[CV]  max_depth=5, min_samples_split=2, min_samples_leaf=1, n_estimators=300, max_features=auto, total=   0.5s\n",
      "[CV] max_depth=5, min_samples_split=2, min_samples_leaf=1, n_estimators=300, max_features=auto \n",
      "[CV]  max_depth=5, min_samples_split=2, min_samples_leaf=1, n_estimators=300, max_features=auto, total=   0.5s\n",
      "[CV] max_depth=5, min_samples_split=2, min_samples_leaf=1, n_estimators=400, max_features=auto \n",
      "[CV]  max_depth=5, min_samples_split=2, min_samples_leaf=1, n_estimators=400, max_features=auto, total=   0.7s\n",
      "[CV] max_depth=5, min_samples_split=2, min_samples_leaf=1, n_estimators=400, max_features=auto \n",
      "[CV]  max_depth=5, min_samples_split=2, min_samples_leaf=1, n_estimators=400, max_features=auto, total=   0.6s\n",
      "[CV] max_depth=5, min_samples_split=2, min_samples_leaf=1, n_estimators=400, max_features=auto \n",
      "[CV]  max_depth=5, min_samples_split=2, min_samples_leaf=1, n_estimators=400, max_features=auto, total=   0.6s\n",
      "[CV] max_depth=5, min_samples_split=2, min_samples_leaf=1, n_estimators=400, max_features=auto \n",
      "[CV]  max_depth=5, min_samples_split=2, min_samples_leaf=1, n_estimators=400, max_features=auto, total=   0.7s\n",
      "[CV] max_depth=5, min_samples_split=2, min_samples_leaf=1, n_estimators=400, max_features=auto \n",
      "[CV]  max_depth=5, min_samples_split=2, min_samples_leaf=1, n_estimators=400, max_features=auto, total=   0.6s\n",
      "[CV] max_depth=5, min_samples_split=2, min_samples_leaf=1, n_estimators=500, max_features=auto \n",
      "[CV]  max_depth=5, min_samples_split=2, min_samples_leaf=1, n_estimators=500, max_features=auto, total=   0.8s\n",
      "[CV] max_depth=5, min_samples_split=2, min_samples_leaf=1, n_estimators=500, max_features=auto \n",
      "[CV]  max_depth=5, min_samples_split=2, min_samples_leaf=1, n_estimators=500, max_features=auto, total=   0.8s\n",
      "[CV] max_depth=5, min_samples_split=2, min_samples_leaf=1, n_estimators=500, max_features=auto \n",
      "[CV]  max_depth=5, min_samples_split=2, min_samples_leaf=1, n_estimators=500, max_features=auto, total=   0.9s\n",
      "[CV] max_depth=5, min_samples_split=2, min_samples_leaf=1, n_estimators=500, max_features=auto \n",
      "[CV]  max_depth=5, min_samples_split=2, min_samples_leaf=1, n_estimators=500, max_features=auto, total=   0.8s\n",
      "[CV] max_depth=5, min_samples_split=2, min_samples_leaf=1, n_estimators=500, max_features=auto \n",
      "[CV]  max_depth=5, min_samples_split=2, min_samples_leaf=1, n_estimators=500, max_features=auto, total=   0.8s\n",
      "[CV] max_depth=5, min_samples_split=2, min_samples_leaf=1, n_estimators=600, max_features=auto \n",
      "[CV]  max_depth=5, min_samples_split=2, min_samples_leaf=1, n_estimators=600, max_features=auto, total=   0.9s\n",
      "[CV] max_depth=5, min_samples_split=2, min_samples_leaf=1, n_estimators=600, max_features=auto \n",
      "[CV]  max_depth=5, min_samples_split=2, min_samples_leaf=1, n_estimators=600, max_features=auto, total=   0.9s\n",
      "[CV] max_depth=5, min_samples_split=2, min_samples_leaf=1, n_estimators=600, max_features=auto \n",
      "[CV]  max_depth=5, min_samples_split=2, min_samples_leaf=1, n_estimators=600, max_features=auto, total=   1.1s\n",
      "[CV] max_depth=5, min_samples_split=2, min_samples_leaf=1, n_estimators=600, max_features=auto \n",
      "[CV]  max_depth=5, min_samples_split=2, min_samples_leaf=1, n_estimators=600, max_features=auto, total=   1.1s\n",
      "[CV] max_depth=5, min_samples_split=2, min_samples_leaf=1, n_estimators=600, max_features=auto \n",
      "[CV]  max_depth=5, min_samples_split=2, min_samples_leaf=1, n_estimators=600, max_features=auto, total=   0.9s\n",
      "[CV] max_depth=5, min_samples_split=2, min_samples_leaf=1, n_estimators=700, max_features=auto \n",
      "[CV]  max_depth=5, min_samples_split=2, min_samples_leaf=1, n_estimators=700, max_features=auto, total=   1.0s\n",
      "[CV] max_depth=5, min_samples_split=2, min_samples_leaf=1, n_estimators=700, max_features=auto \n",
      "[CV]  max_depth=5, min_samples_split=2, min_samples_leaf=1, n_estimators=700, max_features=auto, total=   1.1s\n",
      "[CV] max_depth=5, min_samples_split=2, min_samples_leaf=1, n_estimators=700, max_features=auto \n",
      "[CV]  max_depth=5, min_samples_split=2, min_samples_leaf=1, n_estimators=700, max_features=auto, total=   1.2s\n",
      "[CV] max_depth=5, min_samples_split=2, min_samples_leaf=1, n_estimators=700, max_features=auto \n",
      "[CV]  max_depth=5, min_samples_split=2, min_samples_leaf=1, n_estimators=700, max_features=auto, total=   1.1s\n",
      "[CV] max_depth=5, min_samples_split=2, min_samples_leaf=1, n_estimators=700, max_features=auto \n",
      "[CV]  max_depth=5, min_samples_split=2, min_samples_leaf=1, n_estimators=700, max_features=auto, total=   1.2s\n",
      "[CV] max_depth=5, min_samples_split=2, min_samples_leaf=1, n_estimators=800, max_features=auto \n",
      "[CV]  max_depth=5, min_samples_split=2, min_samples_leaf=1, n_estimators=800, max_features=auto, total=   1.2s\n",
      "[CV] max_depth=5, min_samples_split=2, min_samples_leaf=1, n_estimators=800, max_features=auto \n",
      "[CV]  max_depth=5, min_samples_split=2, min_samples_leaf=1, n_estimators=800, max_features=auto, total=   1.1s\n",
      "[CV] max_depth=5, min_samples_split=2, min_samples_leaf=1, n_estimators=800, max_features=auto \n",
      "[CV]  max_depth=5, min_samples_split=2, min_samples_leaf=1, n_estimators=800, max_features=auto, total=   1.2s\n",
      "[CV] max_depth=5, min_samples_split=2, min_samples_leaf=1, n_estimators=800, max_features=auto \n",
      "[CV]  max_depth=5, min_samples_split=2, min_samples_leaf=1, n_estimators=800, max_features=auto, total=   1.5s\n",
      "[CV] max_depth=5, min_samples_split=2, min_samples_leaf=1, n_estimators=800, max_features=auto \n",
      "[CV]  max_depth=5, min_samples_split=2, min_samples_leaf=1, n_estimators=800, max_features=auto, total=   1.1s\n",
      "[CV] max_depth=5, min_samples_split=2, min_samples_leaf=1, n_estimators=900, max_features=auto \n",
      "[CV]  max_depth=5, min_samples_split=2, min_samples_leaf=1, n_estimators=900, max_features=auto, total=   1.4s\n",
      "[CV] max_depth=5, min_samples_split=2, min_samples_leaf=1, n_estimators=900, max_features=auto \n"
     ]
    },
    {
     "name": "stdout",
     "output_type": "stream",
     "text": [
      "[CV]  max_depth=5, min_samples_split=2, min_samples_leaf=1, n_estimators=900, max_features=auto, total=   1.7s\n",
      "[CV] max_depth=5, min_samples_split=2, min_samples_leaf=1, n_estimators=900, max_features=auto \n",
      "[CV]  max_depth=5, min_samples_split=2, min_samples_leaf=1, n_estimators=900, max_features=auto, total=   1.3s\n",
      "[CV] max_depth=5, min_samples_split=2, min_samples_leaf=1, n_estimators=900, max_features=auto \n",
      "[CV]  max_depth=5, min_samples_split=2, min_samples_leaf=1, n_estimators=900, max_features=auto, total=   1.3s\n",
      "[CV] max_depth=5, min_samples_split=2, min_samples_leaf=1, n_estimators=900, max_features=auto \n",
      "[CV]  max_depth=5, min_samples_split=2, min_samples_leaf=1, n_estimators=900, max_features=auto, total=   1.3s\n",
      "[CV] max_depth=5, min_samples_split=2, min_samples_leaf=1, n_estimators=1000, max_features=auto \n",
      "[CV]  max_depth=5, min_samples_split=2, min_samples_leaf=1, n_estimators=1000, max_features=auto, total=   1.6s\n",
      "[CV] max_depth=5, min_samples_split=2, min_samples_leaf=1, n_estimators=1000, max_features=auto \n",
      "[CV]  max_depth=5, min_samples_split=2, min_samples_leaf=1, n_estimators=1000, max_features=auto, total=   1.4s\n",
      "[CV] max_depth=5, min_samples_split=2, min_samples_leaf=1, n_estimators=1000, max_features=auto \n",
      "[CV]  max_depth=5, min_samples_split=2, min_samples_leaf=1, n_estimators=1000, max_features=auto, total=   1.4s\n",
      "[CV] max_depth=5, min_samples_split=2, min_samples_leaf=1, n_estimators=1000, max_features=auto \n",
      "[CV]  max_depth=5, min_samples_split=2, min_samples_leaf=1, n_estimators=1000, max_features=auto, total=   1.4s\n",
      "[CV] max_depth=5, min_samples_split=2, min_samples_leaf=1, n_estimators=1000, max_features=auto \n",
      "[CV]  max_depth=5, min_samples_split=2, min_samples_leaf=1, n_estimators=1000, max_features=auto, total=   1.5s\n",
      "[CV] max_depth=5, min_samples_split=2, min_samples_leaf=1, n_estimators=1100, max_features=auto \n",
      "[CV]  max_depth=5, min_samples_split=2, min_samples_leaf=1, n_estimators=1100, max_features=auto, total=   1.5s\n",
      "[CV] max_depth=5, min_samples_split=2, min_samples_leaf=1, n_estimators=1100, max_features=auto \n",
      "[CV]  max_depth=5, min_samples_split=2, min_samples_leaf=1, n_estimators=1100, max_features=auto, total=   1.7s\n",
      "[CV] max_depth=5, min_samples_split=2, min_samples_leaf=1, n_estimators=1100, max_features=auto \n",
      "[CV]  max_depth=5, min_samples_split=2, min_samples_leaf=1, n_estimators=1100, max_features=auto, total=   1.7s\n",
      "[CV] max_depth=5, min_samples_split=2, min_samples_leaf=1, n_estimators=1100, max_features=auto \n",
      "[CV]  max_depth=5, min_samples_split=2, min_samples_leaf=1, n_estimators=1100, max_features=auto, total=   1.7s\n",
      "[CV] max_depth=5, min_samples_split=2, min_samples_leaf=1, n_estimators=1100, max_features=auto \n",
      "[CV]  max_depth=5, min_samples_split=2, min_samples_leaf=1, n_estimators=1100, max_features=auto, total=   1.6s\n",
      "[CV] max_depth=5, min_samples_split=2, min_samples_leaf=1, n_estimators=1200, max_features=auto \n",
      "[CV]  max_depth=5, min_samples_split=2, min_samples_leaf=1, n_estimators=1200, max_features=auto, total=   1.7s\n",
      "[CV] max_depth=5, min_samples_split=2, min_samples_leaf=1, n_estimators=1200, max_features=auto \n",
      "[CV]  max_depth=5, min_samples_split=2, min_samples_leaf=1, n_estimators=1200, max_features=auto, total=   1.8s\n",
      "[CV] max_depth=5, min_samples_split=2, min_samples_leaf=1, n_estimators=1200, max_features=auto \n",
      "[CV]  max_depth=5, min_samples_split=2, min_samples_leaf=1, n_estimators=1200, max_features=auto, total=   1.9s\n",
      "[CV] max_depth=5, min_samples_split=2, min_samples_leaf=1, n_estimators=1200, max_features=auto \n",
      "[CV]  max_depth=5, min_samples_split=2, min_samples_leaf=1, n_estimators=1200, max_features=auto, total=   1.8s\n",
      "[CV] max_depth=5, min_samples_split=2, min_samples_leaf=1, n_estimators=1200, max_features=auto \n",
      "[CV]  max_depth=5, min_samples_split=2, min_samples_leaf=1, n_estimators=1200, max_features=auto, total=   1.9s\n",
      "[CV] max_depth=5, min_samples_split=5, min_samples_leaf=1, n_estimators=100, max_features=auto \n",
      "[CV]  max_depth=5, min_samples_split=5, min_samples_leaf=1, n_estimators=100, max_features=auto, total=   0.2s\n",
      "[CV] max_depth=5, min_samples_split=5, min_samples_leaf=1, n_estimators=100, max_features=auto \n",
      "[CV]  max_depth=5, min_samples_split=5, min_samples_leaf=1, n_estimators=100, max_features=auto, total=   0.2s\n",
      "[CV] max_depth=5, min_samples_split=5, min_samples_leaf=1, n_estimators=100, max_features=auto \n",
      "[CV]  max_depth=5, min_samples_split=5, min_samples_leaf=1, n_estimators=100, max_features=auto, total=   0.2s\n",
      "[CV] max_depth=5, min_samples_split=5, min_samples_leaf=1, n_estimators=100, max_features=auto \n",
      "[CV]  max_depth=5, min_samples_split=5, min_samples_leaf=1, n_estimators=100, max_features=auto, total=   0.2s\n",
      "[CV] max_depth=5, min_samples_split=5, min_samples_leaf=1, n_estimators=100, max_features=auto \n",
      "[CV]  max_depth=5, min_samples_split=5, min_samples_leaf=1, n_estimators=100, max_features=auto, total=   0.2s\n",
      "[CV] max_depth=5, min_samples_split=5, min_samples_leaf=1, n_estimators=200, max_features=auto \n",
      "[CV]  max_depth=5, min_samples_split=5, min_samples_leaf=1, n_estimators=200, max_features=auto, total=   0.3s\n",
      "[CV] max_depth=5, min_samples_split=5, min_samples_leaf=1, n_estimators=200, max_features=auto \n",
      "[CV]  max_depth=5, min_samples_split=5, min_samples_leaf=1, n_estimators=200, max_features=auto, total=   0.3s\n",
      "[CV] max_depth=5, min_samples_split=5, min_samples_leaf=1, n_estimators=200, max_features=auto \n",
      "[CV]  max_depth=5, min_samples_split=5, min_samples_leaf=1, n_estimators=200, max_features=auto, total=   0.3s\n",
      "[CV] max_depth=5, min_samples_split=5, min_samples_leaf=1, n_estimators=200, max_features=auto \n",
      "[CV]  max_depth=5, min_samples_split=5, min_samples_leaf=1, n_estimators=200, max_features=auto, total=   0.3s\n",
      "[CV] max_depth=5, min_samples_split=5, min_samples_leaf=1, n_estimators=200, max_features=auto \n",
      "[CV]  max_depth=5, min_samples_split=5, min_samples_leaf=1, n_estimators=200, max_features=auto, total=   0.5s\n",
      "[CV] max_depth=5, min_samples_split=5, min_samples_leaf=1, n_estimators=300, max_features=auto \n",
      "[CV]  max_depth=5, min_samples_split=5, min_samples_leaf=1, n_estimators=300, max_features=auto, total=   0.7s\n",
      "[CV] max_depth=5, min_samples_split=5, min_samples_leaf=1, n_estimators=300, max_features=auto \n",
      "[CV]  max_depth=5, min_samples_split=5, min_samples_leaf=1, n_estimators=300, max_features=auto, total=   0.5s\n",
      "[CV] max_depth=5, min_samples_split=5, min_samples_leaf=1, n_estimators=300, max_features=auto \n",
      "[CV]  max_depth=5, min_samples_split=5, min_samples_leaf=1, n_estimators=300, max_features=auto, total=   0.5s\n",
      "[CV] max_depth=5, min_samples_split=5, min_samples_leaf=1, n_estimators=300, max_features=auto \n",
      "[CV]  max_depth=5, min_samples_split=5, min_samples_leaf=1, n_estimators=300, max_features=auto, total=   0.6s\n",
      "[CV] max_depth=5, min_samples_split=5, min_samples_leaf=1, n_estimators=300, max_features=auto \n",
      "[CV]  max_depth=5, min_samples_split=5, min_samples_leaf=1, n_estimators=300, max_features=auto, total=   0.6s\n",
      "[CV] max_depth=5, min_samples_split=5, min_samples_leaf=1, n_estimators=400, max_features=auto \n",
      "[CV]  max_depth=5, min_samples_split=5, min_samples_leaf=1, n_estimators=400, max_features=auto, total=   0.6s\n",
      "[CV] max_depth=5, min_samples_split=5, min_samples_leaf=1, n_estimators=400, max_features=auto \n",
      "[CV]  max_depth=5, min_samples_split=5, min_samples_leaf=1, n_estimators=400, max_features=auto, total=   0.6s\n",
      "[CV] max_depth=5, min_samples_split=5, min_samples_leaf=1, n_estimators=400, max_features=auto \n",
      "[CV]  max_depth=5, min_samples_split=5, min_samples_leaf=1, n_estimators=400, max_features=auto, total=   0.6s\n",
      "[CV] max_depth=5, min_samples_split=5, min_samples_leaf=1, n_estimators=400, max_features=auto \n",
      "[CV]  max_depth=5, min_samples_split=5, min_samples_leaf=1, n_estimators=400, max_features=auto, total=   0.6s\n",
      "[CV] max_depth=5, min_samples_split=5, min_samples_leaf=1, n_estimators=400, max_features=auto \n",
      "[CV]  max_depth=5, min_samples_split=5, min_samples_leaf=1, n_estimators=400, max_features=auto, total=   0.6s\n",
      "[CV] max_depth=5, min_samples_split=5, min_samples_leaf=1, n_estimators=500, max_features=auto \n",
      "[CV]  max_depth=5, min_samples_split=5, min_samples_leaf=1, n_estimators=500, max_features=auto, total=   0.7s\n",
      "[CV] max_depth=5, min_samples_split=5, min_samples_leaf=1, n_estimators=500, max_features=auto \n"
     ]
    },
    {
     "name": "stdout",
     "output_type": "stream",
     "text": [
      "[CV]  max_depth=5, min_samples_split=5, min_samples_leaf=1, n_estimators=500, max_features=auto, total=   0.8s\n",
      "[CV] max_depth=5, min_samples_split=5, min_samples_leaf=1, n_estimators=500, max_features=auto \n",
      "[CV]  max_depth=5, min_samples_split=5, min_samples_leaf=1, n_estimators=500, max_features=auto, total=   0.8s\n",
      "[CV] max_depth=5, min_samples_split=5, min_samples_leaf=1, n_estimators=500, max_features=auto \n",
      "[CV]  max_depth=5, min_samples_split=5, min_samples_leaf=1, n_estimators=500, max_features=auto, total=   0.8s\n",
      "[CV] max_depth=5, min_samples_split=5, min_samples_leaf=1, n_estimators=500, max_features=auto \n",
      "[CV]  max_depth=5, min_samples_split=5, min_samples_leaf=1, n_estimators=500, max_features=auto, total=   0.7s\n",
      "[CV] max_depth=5, min_samples_split=5, min_samples_leaf=1, n_estimators=600, max_features=auto \n",
      "[CV]  max_depth=5, min_samples_split=5, min_samples_leaf=1, n_estimators=600, max_features=auto, total=   1.0s\n",
      "[CV] max_depth=5, min_samples_split=5, min_samples_leaf=1, n_estimators=600, max_features=auto \n",
      "[CV]  max_depth=5, min_samples_split=5, min_samples_leaf=1, n_estimators=600, max_features=auto, total=   0.9s\n",
      "[CV] max_depth=5, min_samples_split=5, min_samples_leaf=1, n_estimators=600, max_features=auto \n",
      "[CV]  max_depth=5, min_samples_split=5, min_samples_leaf=1, n_estimators=600, max_features=auto, total=   0.9s\n",
      "[CV] max_depth=5, min_samples_split=5, min_samples_leaf=1, n_estimators=600, max_features=auto \n",
      "[CV]  max_depth=5, min_samples_split=5, min_samples_leaf=1, n_estimators=600, max_features=auto, total=   0.9s\n",
      "[CV] max_depth=5, min_samples_split=5, min_samples_leaf=1, n_estimators=600, max_features=auto \n",
      "[CV]  max_depth=5, min_samples_split=5, min_samples_leaf=1, n_estimators=600, max_features=auto, total=   1.0s\n",
      "[CV] max_depth=5, min_samples_split=5, min_samples_leaf=1, n_estimators=700, max_features=auto \n",
      "[CV]  max_depth=5, min_samples_split=5, min_samples_leaf=1, n_estimators=700, max_features=auto, total=   1.2s\n",
      "[CV] max_depth=5, min_samples_split=5, min_samples_leaf=1, n_estimators=700, max_features=auto \n",
      "[CV]  max_depth=5, min_samples_split=5, min_samples_leaf=1, n_estimators=700, max_features=auto, total=   1.2s\n",
      "[CV] max_depth=5, min_samples_split=5, min_samples_leaf=1, n_estimators=700, max_features=auto \n",
      "[CV]  max_depth=5, min_samples_split=5, min_samples_leaf=1, n_estimators=700, max_features=auto, total=   1.2s\n",
      "[CV] max_depth=5, min_samples_split=5, min_samples_leaf=1, n_estimators=700, max_features=auto \n",
      "[CV]  max_depth=5, min_samples_split=5, min_samples_leaf=1, n_estimators=700, max_features=auto, total=   1.1s\n",
      "[CV] max_depth=5, min_samples_split=5, min_samples_leaf=1, n_estimators=700, max_features=auto \n",
      "[CV]  max_depth=5, min_samples_split=5, min_samples_leaf=1, n_estimators=700, max_features=auto, total=   1.2s\n",
      "[CV] max_depth=5, min_samples_split=5, min_samples_leaf=1, n_estimators=800, max_features=auto \n",
      "[CV]  max_depth=5, min_samples_split=5, min_samples_leaf=1, n_estimators=800, max_features=auto, total=   1.3s\n",
      "[CV] max_depth=5, min_samples_split=5, min_samples_leaf=1, n_estimators=800, max_features=auto \n",
      "[CV]  max_depth=5, min_samples_split=5, min_samples_leaf=1, n_estimators=800, max_features=auto, total=   1.3s\n",
      "[CV] max_depth=5, min_samples_split=5, min_samples_leaf=1, n_estimators=800, max_features=auto \n",
      "[CV]  max_depth=5, min_samples_split=5, min_samples_leaf=1, n_estimators=800, max_features=auto, total=   1.3s\n",
      "[CV] max_depth=5, min_samples_split=5, min_samples_leaf=1, n_estimators=800, max_features=auto \n",
      "[CV]  max_depth=5, min_samples_split=5, min_samples_leaf=1, n_estimators=800, max_features=auto, total=   1.2s\n",
      "[CV] max_depth=5, min_samples_split=5, min_samples_leaf=1, n_estimators=800, max_features=auto \n",
      "[CV]  max_depth=5, min_samples_split=5, min_samples_leaf=1, n_estimators=800, max_features=auto, total=   1.2s\n",
      "[CV] max_depth=5, min_samples_split=5, min_samples_leaf=1, n_estimators=900, max_features=auto \n",
      "[CV]  max_depth=5, min_samples_split=5, min_samples_leaf=1, n_estimators=900, max_features=auto, total=   1.4s\n",
      "[CV] max_depth=5, min_samples_split=5, min_samples_leaf=1, n_estimators=900, max_features=auto \n",
      "[CV]  max_depth=5, min_samples_split=5, min_samples_leaf=1, n_estimators=900, max_features=auto, total=   1.3s\n",
      "[CV] max_depth=5, min_samples_split=5, min_samples_leaf=1, n_estimators=900, max_features=auto \n",
      "[CV]  max_depth=5, min_samples_split=5, min_samples_leaf=1, n_estimators=900, max_features=auto, total=   1.4s\n",
      "[CV] max_depth=5, min_samples_split=5, min_samples_leaf=1, n_estimators=900, max_features=auto \n",
      "[CV]  max_depth=5, min_samples_split=5, min_samples_leaf=1, n_estimators=900, max_features=auto, total=   1.5s\n",
      "[CV] max_depth=5, min_samples_split=5, min_samples_leaf=1, n_estimators=900, max_features=auto \n",
      "[CV]  max_depth=5, min_samples_split=5, min_samples_leaf=1, n_estimators=900, max_features=auto, total=   1.4s\n",
      "[CV] max_depth=5, min_samples_split=5, min_samples_leaf=1, n_estimators=1000, max_features=auto \n",
      "[CV]  max_depth=5, min_samples_split=5, min_samples_leaf=1, n_estimators=1000, max_features=auto, total=   1.4s\n",
      "[CV] max_depth=5, min_samples_split=5, min_samples_leaf=1, n_estimators=1000, max_features=auto \n",
      "[CV]  max_depth=5, min_samples_split=5, min_samples_leaf=1, n_estimators=1000, max_features=auto, total=   1.4s\n",
      "[CV] max_depth=5, min_samples_split=5, min_samples_leaf=1, n_estimators=1000, max_features=auto \n",
      "[CV]  max_depth=5, min_samples_split=5, min_samples_leaf=1, n_estimators=1000, max_features=auto, total=   1.4s\n",
      "[CV] max_depth=5, min_samples_split=5, min_samples_leaf=1, n_estimators=1000, max_features=auto \n",
      "[CV]  max_depth=5, min_samples_split=5, min_samples_leaf=1, n_estimators=1000, max_features=auto, total=   1.4s\n",
      "[CV] max_depth=5, min_samples_split=5, min_samples_leaf=1, n_estimators=1000, max_features=auto \n",
      "[CV]  max_depth=5, min_samples_split=5, min_samples_leaf=1, n_estimators=1000, max_features=auto, total=   1.4s\n",
      "[CV] max_depth=5, min_samples_split=5, min_samples_leaf=1, n_estimators=1100, max_features=auto \n",
      "[CV]  max_depth=5, min_samples_split=5, min_samples_leaf=1, n_estimators=1100, max_features=auto, total=   1.6s\n",
      "[CV] max_depth=5, min_samples_split=5, min_samples_leaf=1, n_estimators=1100, max_features=auto \n",
      "[CV]  max_depth=5, min_samples_split=5, min_samples_leaf=1, n_estimators=1100, max_features=auto, total=   1.6s\n",
      "[CV] max_depth=5, min_samples_split=5, min_samples_leaf=1, n_estimators=1100, max_features=auto \n",
      "[CV]  max_depth=5, min_samples_split=5, min_samples_leaf=1, n_estimators=1100, max_features=auto, total=   1.6s\n",
      "[CV] max_depth=5, min_samples_split=5, min_samples_leaf=1, n_estimators=1100, max_features=auto \n",
      "[CV]  max_depth=5, min_samples_split=5, min_samples_leaf=1, n_estimators=1100, max_features=auto, total=   1.6s\n",
      "[CV] max_depth=5, min_samples_split=5, min_samples_leaf=1, n_estimators=1100, max_features=auto \n",
      "[CV]  max_depth=5, min_samples_split=5, min_samples_leaf=1, n_estimators=1100, max_features=auto, total=   1.6s\n",
      "[CV] max_depth=5, min_samples_split=5, min_samples_leaf=1, n_estimators=1200, max_features=auto \n",
      "[CV]  max_depth=5, min_samples_split=5, min_samples_leaf=1, n_estimators=1200, max_features=auto, total=   1.7s\n",
      "[CV] max_depth=5, min_samples_split=5, min_samples_leaf=1, n_estimators=1200, max_features=auto \n",
      "[CV]  max_depth=5, min_samples_split=5, min_samples_leaf=1, n_estimators=1200, max_features=auto, total=   1.7s\n",
      "[CV] max_depth=5, min_samples_split=5, min_samples_leaf=1, n_estimators=1200, max_features=auto \n",
      "[CV]  max_depth=5, min_samples_split=5, min_samples_leaf=1, n_estimators=1200, max_features=auto, total=   1.7s\n",
      "[CV] max_depth=5, min_samples_split=5, min_samples_leaf=1, n_estimators=1200, max_features=auto \n",
      "[CV]  max_depth=5, min_samples_split=5, min_samples_leaf=1, n_estimators=1200, max_features=auto, total=   1.7s\n",
      "[CV] max_depth=5, min_samples_split=5, min_samples_leaf=1, n_estimators=1200, max_features=auto \n",
      "[CV]  max_depth=5, min_samples_split=5, min_samples_leaf=1, n_estimators=1200, max_features=auto, total=   1.8s\n",
      "[CV] max_depth=5, min_samples_split=10, min_samples_leaf=1, n_estimators=100, max_features=auto \n",
      "[CV]  max_depth=5, min_samples_split=10, min_samples_leaf=1, n_estimators=100, max_features=auto, total=   0.1s\n",
      "[CV] max_depth=5, min_samples_split=10, min_samples_leaf=1, n_estimators=100, max_features=auto \n"
     ]
    },
    {
     "name": "stdout",
     "output_type": "stream",
     "text": [
      "[CV]  max_depth=5, min_samples_split=10, min_samples_leaf=1, n_estimators=100, max_features=auto, total=   0.1s\n",
      "[CV] max_depth=5, min_samples_split=10, min_samples_leaf=1, n_estimators=100, max_features=auto \n",
      "[CV]  max_depth=5, min_samples_split=10, min_samples_leaf=1, n_estimators=100, max_features=auto, total=   0.1s\n",
      "[CV] max_depth=5, min_samples_split=10, min_samples_leaf=1, n_estimators=100, max_features=auto \n",
      "[CV]  max_depth=5, min_samples_split=10, min_samples_leaf=1, n_estimators=100, max_features=auto, total=   0.2s\n",
      "[CV] max_depth=5, min_samples_split=10, min_samples_leaf=1, n_estimators=100, max_features=auto \n",
      "[CV]  max_depth=5, min_samples_split=10, min_samples_leaf=1, n_estimators=100, max_features=auto, total=   0.1s\n",
      "[CV] max_depth=5, min_samples_split=10, min_samples_leaf=1, n_estimators=200, max_features=auto \n",
      "[CV]  max_depth=5, min_samples_split=10, min_samples_leaf=1, n_estimators=200, max_features=auto, total=   0.3s\n",
      "[CV] max_depth=5, min_samples_split=10, min_samples_leaf=1, n_estimators=200, max_features=auto \n",
      "[CV]  max_depth=5, min_samples_split=10, min_samples_leaf=1, n_estimators=200, max_features=auto, total=   0.3s\n",
      "[CV] max_depth=5, min_samples_split=10, min_samples_leaf=1, n_estimators=200, max_features=auto \n",
      "[CV]  max_depth=5, min_samples_split=10, min_samples_leaf=1, n_estimators=200, max_features=auto, total=   0.3s\n",
      "[CV] max_depth=5, min_samples_split=10, min_samples_leaf=1, n_estimators=200, max_features=auto \n",
      "[CV]  max_depth=5, min_samples_split=10, min_samples_leaf=1, n_estimators=200, max_features=auto, total=   0.3s\n",
      "[CV] max_depth=5, min_samples_split=10, min_samples_leaf=1, n_estimators=200, max_features=auto \n",
      "[CV]  max_depth=5, min_samples_split=10, min_samples_leaf=1, n_estimators=200, max_features=auto, total=   0.3s\n",
      "[CV] max_depth=5, min_samples_split=10, min_samples_leaf=1, n_estimators=300, max_features=auto \n",
      "[CV]  max_depth=5, min_samples_split=10, min_samples_leaf=1, n_estimators=300, max_features=auto, total=   0.4s\n",
      "[CV] max_depth=5, min_samples_split=10, min_samples_leaf=1, n_estimators=300, max_features=auto \n",
      "[CV]  max_depth=5, min_samples_split=10, min_samples_leaf=1, n_estimators=300, max_features=auto, total=   0.4s\n",
      "[CV] max_depth=5, min_samples_split=10, min_samples_leaf=1, n_estimators=300, max_features=auto \n",
      "[CV]  max_depth=5, min_samples_split=10, min_samples_leaf=1, n_estimators=300, max_features=auto, total=   0.5s\n",
      "[CV] max_depth=5, min_samples_split=10, min_samples_leaf=1, n_estimators=300, max_features=auto \n",
      "[CV]  max_depth=5, min_samples_split=10, min_samples_leaf=1, n_estimators=300, max_features=auto, total=   0.4s\n",
      "[CV] max_depth=5, min_samples_split=10, min_samples_leaf=1, n_estimators=300, max_features=auto \n",
      "[CV]  max_depth=5, min_samples_split=10, min_samples_leaf=1, n_estimators=300, max_features=auto, total=   0.4s\n",
      "[CV] max_depth=5, min_samples_split=10, min_samples_leaf=1, n_estimators=400, max_features=auto \n",
      "[CV]  max_depth=5, min_samples_split=10, min_samples_leaf=1, n_estimators=400, max_features=auto, total=   0.6s\n",
      "[CV] max_depth=5, min_samples_split=10, min_samples_leaf=1, n_estimators=400, max_features=auto \n",
      "[CV]  max_depth=5, min_samples_split=10, min_samples_leaf=1, n_estimators=400, max_features=auto, total=   0.6s\n",
      "[CV] max_depth=5, min_samples_split=10, min_samples_leaf=1, n_estimators=400, max_features=auto \n",
      "[CV]  max_depth=5, min_samples_split=10, min_samples_leaf=1, n_estimators=400, max_features=auto, total=   0.6s\n",
      "[CV] max_depth=5, min_samples_split=10, min_samples_leaf=1, n_estimators=400, max_features=auto \n",
      "[CV]  max_depth=5, min_samples_split=10, min_samples_leaf=1, n_estimators=400, max_features=auto, total=   0.7s\n",
      "[CV] max_depth=5, min_samples_split=10, min_samples_leaf=1, n_estimators=400, max_features=auto \n",
      "[CV]  max_depth=5, min_samples_split=10, min_samples_leaf=1, n_estimators=400, max_features=auto, total=   0.6s\n",
      "[CV] max_depth=5, min_samples_split=10, min_samples_leaf=1, n_estimators=500, max_features=auto \n",
      "[CV]  max_depth=5, min_samples_split=10, min_samples_leaf=1, n_estimators=500, max_features=auto, total=   0.7s\n",
      "[CV] max_depth=5, min_samples_split=10, min_samples_leaf=1, n_estimators=500, max_features=auto \n",
      "[CV]  max_depth=5, min_samples_split=10, min_samples_leaf=1, n_estimators=500, max_features=auto, total=   0.7s\n",
      "[CV] max_depth=5, min_samples_split=10, min_samples_leaf=1, n_estimators=500, max_features=auto \n",
      "[CV]  max_depth=5, min_samples_split=10, min_samples_leaf=1, n_estimators=500, max_features=auto, total=   0.7s\n",
      "[CV] max_depth=5, min_samples_split=10, min_samples_leaf=1, n_estimators=500, max_features=auto \n",
      "[CV]  max_depth=5, min_samples_split=10, min_samples_leaf=1, n_estimators=500, max_features=auto, total=   0.8s\n",
      "[CV] max_depth=5, min_samples_split=10, min_samples_leaf=1, n_estimators=500, max_features=auto \n",
      "[CV]  max_depth=5, min_samples_split=10, min_samples_leaf=1, n_estimators=500, max_features=auto, total=   0.8s\n",
      "[CV] max_depth=5, min_samples_split=10, min_samples_leaf=1, n_estimators=600, max_features=auto \n",
      "[CV]  max_depth=5, min_samples_split=10, min_samples_leaf=1, n_estimators=600, max_features=auto, total=   0.9s\n",
      "[CV] max_depth=5, min_samples_split=10, min_samples_leaf=1, n_estimators=600, max_features=auto \n",
      "[CV]  max_depth=5, min_samples_split=10, min_samples_leaf=1, n_estimators=600, max_features=auto, total=   0.9s\n",
      "[CV] max_depth=5, min_samples_split=10, min_samples_leaf=1, n_estimators=600, max_features=auto \n",
      "[CV]  max_depth=5, min_samples_split=10, min_samples_leaf=1, n_estimators=600, max_features=auto, total=   0.9s\n",
      "[CV] max_depth=5, min_samples_split=10, min_samples_leaf=1, n_estimators=600, max_features=auto \n",
      "[CV]  max_depth=5, min_samples_split=10, min_samples_leaf=1, n_estimators=600, max_features=auto, total=   0.9s\n",
      "[CV] max_depth=5, min_samples_split=10, min_samples_leaf=1, n_estimators=600, max_features=auto \n",
      "[CV]  max_depth=5, min_samples_split=10, min_samples_leaf=1, n_estimators=600, max_features=auto, total=   0.8s\n",
      "[CV] max_depth=5, min_samples_split=10, min_samples_leaf=1, n_estimators=700, max_features=auto \n",
      "[CV]  max_depth=5, min_samples_split=10, min_samples_leaf=1, n_estimators=700, max_features=auto, total=   1.1s\n",
      "[CV] max_depth=5, min_samples_split=10, min_samples_leaf=1, n_estimators=700, max_features=auto \n",
      "[CV]  max_depth=5, min_samples_split=10, min_samples_leaf=1, n_estimators=700, max_features=auto, total=   1.0s\n",
      "[CV] max_depth=5, min_samples_split=10, min_samples_leaf=1, n_estimators=700, max_features=auto \n",
      "[CV]  max_depth=5, min_samples_split=10, min_samples_leaf=1, n_estimators=700, max_features=auto, total=   1.0s\n",
      "[CV] max_depth=5, min_samples_split=10, min_samples_leaf=1, n_estimators=700, max_features=auto \n",
      "[CV]  max_depth=5, min_samples_split=10, min_samples_leaf=1, n_estimators=700, max_features=auto, total=   1.0s\n",
      "[CV] max_depth=5, min_samples_split=10, min_samples_leaf=1, n_estimators=700, max_features=auto \n",
      "[CV]  max_depth=5, min_samples_split=10, min_samples_leaf=1, n_estimators=700, max_features=auto, total=   1.0s\n",
      "[CV] max_depth=5, min_samples_split=10, min_samples_leaf=1, n_estimators=800, max_features=auto \n",
      "[CV]  max_depth=5, min_samples_split=10, min_samples_leaf=1, n_estimators=800, max_features=auto, total=   1.4s\n",
      "[CV] max_depth=5, min_samples_split=10, min_samples_leaf=1, n_estimators=800, max_features=auto \n",
      "[CV]  max_depth=5, min_samples_split=10, min_samples_leaf=1, n_estimators=800, max_features=auto, total=   1.7s\n",
      "[CV] max_depth=5, min_samples_split=10, min_samples_leaf=1, n_estimators=800, max_features=auto \n",
      "[CV]  max_depth=5, min_samples_split=10, min_samples_leaf=1, n_estimators=800, max_features=auto, total=   1.4s\n",
      "[CV] max_depth=5, min_samples_split=10, min_samples_leaf=1, n_estimators=800, max_features=auto \n",
      "[CV]  max_depth=5, min_samples_split=10, min_samples_leaf=1, n_estimators=800, max_features=auto, total=   1.2s\n",
      "[CV] max_depth=5, min_samples_split=10, min_samples_leaf=1, n_estimators=800, max_features=auto \n",
      "[CV]  max_depth=5, min_samples_split=10, min_samples_leaf=1, n_estimators=800, max_features=auto, total=   1.2s\n",
      "[CV] max_depth=5, min_samples_split=10, min_samples_leaf=1, n_estimators=900, max_features=auto \n",
      "[CV]  max_depth=5, min_samples_split=10, min_samples_leaf=1, n_estimators=900, max_features=auto, total=   1.9s\n",
      "[CV] max_depth=5, min_samples_split=10, min_samples_leaf=1, n_estimators=900, max_features=auto \n"
     ]
    },
    {
     "name": "stdout",
     "output_type": "stream",
     "text": [
      "[CV]  max_depth=5, min_samples_split=10, min_samples_leaf=1, n_estimators=900, max_features=auto, total=   1.4s\n",
      "[CV] max_depth=5, min_samples_split=10, min_samples_leaf=1, n_estimators=900, max_features=auto \n",
      "[CV]  max_depth=5, min_samples_split=10, min_samples_leaf=1, n_estimators=900, max_features=auto, total=   2.0s\n",
      "[CV] max_depth=5, min_samples_split=10, min_samples_leaf=1, n_estimators=900, max_features=auto \n",
      "[CV]  max_depth=5, min_samples_split=10, min_samples_leaf=1, n_estimators=900, max_features=auto, total=   1.4s\n",
      "[CV] max_depth=5, min_samples_split=10, min_samples_leaf=1, n_estimators=900, max_features=auto \n",
      "[CV]  max_depth=5, min_samples_split=10, min_samples_leaf=1, n_estimators=900, max_features=auto, total=   1.4s\n",
      "[CV] max_depth=5, min_samples_split=10, min_samples_leaf=1, n_estimators=1000, max_features=auto \n",
      "[CV]  max_depth=5, min_samples_split=10, min_samples_leaf=1, n_estimators=1000, max_features=auto, total=   2.1s\n",
      "[CV] max_depth=5, min_samples_split=10, min_samples_leaf=1, n_estimators=1000, max_features=auto \n",
      "[CV]  max_depth=5, min_samples_split=10, min_samples_leaf=1, n_estimators=1000, max_features=auto, total=   1.5s\n",
      "[CV] max_depth=5, min_samples_split=10, min_samples_leaf=1, n_estimators=1000, max_features=auto \n",
      "[CV]  max_depth=5, min_samples_split=10, min_samples_leaf=1, n_estimators=1000, max_features=auto, total=   1.5s\n",
      "[CV] max_depth=5, min_samples_split=10, min_samples_leaf=1, n_estimators=1000, max_features=auto \n",
      "[CV]  max_depth=5, min_samples_split=10, min_samples_leaf=1, n_estimators=1000, max_features=auto, total=   1.5s\n",
      "[CV] max_depth=5, min_samples_split=10, min_samples_leaf=1, n_estimators=1000, max_features=auto \n",
      "[CV]  max_depth=5, min_samples_split=10, min_samples_leaf=1, n_estimators=1000, max_features=auto, total=   1.5s\n",
      "[CV] max_depth=5, min_samples_split=10, min_samples_leaf=1, n_estimators=1100, max_features=auto \n",
      "[CV]  max_depth=5, min_samples_split=10, min_samples_leaf=1, n_estimators=1100, max_features=auto, total=   1.6s\n",
      "[CV] max_depth=5, min_samples_split=10, min_samples_leaf=1, n_estimators=1100, max_features=auto \n",
      "[CV]  max_depth=5, min_samples_split=10, min_samples_leaf=1, n_estimators=1100, max_features=auto, total=   1.6s\n",
      "[CV] max_depth=5, min_samples_split=10, min_samples_leaf=1, n_estimators=1100, max_features=auto \n",
      "[CV]  max_depth=5, min_samples_split=10, min_samples_leaf=1, n_estimators=1100, max_features=auto, total=   2.0s\n",
      "[CV] max_depth=5, min_samples_split=10, min_samples_leaf=1, n_estimators=1100, max_features=auto \n",
      "[CV]  max_depth=5, min_samples_split=10, min_samples_leaf=1, n_estimators=1100, max_features=auto, total=   2.1s\n",
      "[CV] max_depth=5, min_samples_split=10, min_samples_leaf=1, n_estimators=1100, max_features=auto \n",
      "[CV]  max_depth=5, min_samples_split=10, min_samples_leaf=1, n_estimators=1100, max_features=auto, total=   2.2s\n",
      "[CV] max_depth=5, min_samples_split=10, min_samples_leaf=1, n_estimators=1200, max_features=auto \n",
      "[CV]  max_depth=5, min_samples_split=10, min_samples_leaf=1, n_estimators=1200, max_features=auto, total=   2.0s\n",
      "[CV] max_depth=5, min_samples_split=10, min_samples_leaf=1, n_estimators=1200, max_features=auto \n",
      "[CV]  max_depth=5, min_samples_split=10, min_samples_leaf=1, n_estimators=1200, max_features=auto, total=   1.9s\n",
      "[CV] max_depth=5, min_samples_split=10, min_samples_leaf=1, n_estimators=1200, max_features=auto \n",
      "[CV]  max_depth=5, min_samples_split=10, min_samples_leaf=1, n_estimators=1200, max_features=auto, total=   1.8s\n",
      "[CV] max_depth=5, min_samples_split=10, min_samples_leaf=1, n_estimators=1200, max_features=auto \n",
      "[CV]  max_depth=5, min_samples_split=10, min_samples_leaf=1, n_estimators=1200, max_features=auto, total=   1.9s\n",
      "[CV] max_depth=5, min_samples_split=10, min_samples_leaf=1, n_estimators=1200, max_features=auto \n",
      "[CV]  max_depth=5, min_samples_split=10, min_samples_leaf=1, n_estimators=1200, max_features=auto, total=   2.7s\n",
      "[CV] max_depth=5, min_samples_split=15, min_samples_leaf=1, n_estimators=100, max_features=auto \n",
      "[CV]  max_depth=5, min_samples_split=15, min_samples_leaf=1, n_estimators=100, max_features=auto, total=   0.2s\n",
      "[CV] max_depth=5, min_samples_split=15, min_samples_leaf=1, n_estimators=100, max_features=auto \n",
      "[CV]  max_depth=5, min_samples_split=15, min_samples_leaf=1, n_estimators=100, max_features=auto, total=   0.2s\n",
      "[CV] max_depth=5, min_samples_split=15, min_samples_leaf=1, n_estimators=100, max_features=auto \n",
      "[CV]  max_depth=5, min_samples_split=15, min_samples_leaf=1, n_estimators=100, max_features=auto, total=   0.2s\n",
      "[CV] max_depth=5, min_samples_split=15, min_samples_leaf=1, n_estimators=100, max_features=auto \n",
      "[CV]  max_depth=5, min_samples_split=15, min_samples_leaf=1, n_estimators=100, max_features=auto, total=   0.2s\n",
      "[CV] max_depth=5, min_samples_split=15, min_samples_leaf=1, n_estimators=100, max_features=auto \n",
      "[CV]  max_depth=5, min_samples_split=15, min_samples_leaf=1, n_estimators=100, max_features=auto, total=   0.2s\n",
      "[CV] max_depth=5, min_samples_split=15, min_samples_leaf=1, n_estimators=200, max_features=auto \n",
      "[CV]  max_depth=5, min_samples_split=15, min_samples_leaf=1, n_estimators=200, max_features=auto, total=   0.3s\n",
      "[CV] max_depth=5, min_samples_split=15, min_samples_leaf=1, n_estimators=200, max_features=auto \n",
      "[CV]  max_depth=5, min_samples_split=15, min_samples_leaf=1, n_estimators=200, max_features=auto, total=   0.3s\n",
      "[CV] max_depth=5, min_samples_split=15, min_samples_leaf=1, n_estimators=200, max_features=auto \n",
      "[CV]  max_depth=5, min_samples_split=15, min_samples_leaf=1, n_estimators=200, max_features=auto, total=   0.3s\n",
      "[CV] max_depth=5, min_samples_split=15, min_samples_leaf=1, n_estimators=200, max_features=auto \n",
      "[CV]  max_depth=5, min_samples_split=15, min_samples_leaf=1, n_estimators=200, max_features=auto, total=   0.4s\n",
      "[CV] max_depth=5, min_samples_split=15, min_samples_leaf=1, n_estimators=200, max_features=auto \n",
      "[CV]  max_depth=5, min_samples_split=15, min_samples_leaf=1, n_estimators=200, max_features=auto, total=   0.3s\n",
      "[CV] max_depth=5, min_samples_split=15, min_samples_leaf=1, n_estimators=300, max_features=auto \n",
      "[CV]  max_depth=5, min_samples_split=15, min_samples_leaf=1, n_estimators=300, max_features=auto, total=   0.4s\n",
      "[CV] max_depth=5, min_samples_split=15, min_samples_leaf=1, n_estimators=300, max_features=auto \n",
      "[CV]  max_depth=5, min_samples_split=15, min_samples_leaf=1, n_estimators=300, max_features=auto, total=   0.5s\n",
      "[CV] max_depth=5, min_samples_split=15, min_samples_leaf=1, n_estimators=300, max_features=auto \n",
      "[CV]  max_depth=5, min_samples_split=15, min_samples_leaf=1, n_estimators=300, max_features=auto, total=   0.4s\n",
      "[CV] max_depth=5, min_samples_split=15, min_samples_leaf=1, n_estimators=300, max_features=auto \n",
      "[CV]  max_depth=5, min_samples_split=15, min_samples_leaf=1, n_estimators=300, max_features=auto, total=   0.6s\n",
      "[CV] max_depth=5, min_samples_split=15, min_samples_leaf=1, n_estimators=300, max_features=auto \n",
      "[CV]  max_depth=5, min_samples_split=15, min_samples_leaf=1, n_estimators=300, max_features=auto, total=   0.5s\n",
      "[CV] max_depth=5, min_samples_split=15, min_samples_leaf=1, n_estimators=400, max_features=auto \n",
      "[CV]  max_depth=5, min_samples_split=15, min_samples_leaf=1, n_estimators=400, max_features=auto, total=   0.8s\n",
      "[CV] max_depth=5, min_samples_split=15, min_samples_leaf=1, n_estimators=400, max_features=auto \n",
      "[CV]  max_depth=5, min_samples_split=15, min_samples_leaf=1, n_estimators=400, max_features=auto, total=   0.7s\n",
      "[CV] max_depth=5, min_samples_split=15, min_samples_leaf=1, n_estimators=400, max_features=auto \n",
      "[CV]  max_depth=5, min_samples_split=15, min_samples_leaf=1, n_estimators=400, max_features=auto, total=   0.8s\n",
      "[CV] max_depth=5, min_samples_split=15, min_samples_leaf=1, n_estimators=400, max_features=auto \n",
      "[CV]  max_depth=5, min_samples_split=15, min_samples_leaf=1, n_estimators=400, max_features=auto, total=   0.7s\n",
      "[CV] max_depth=5, min_samples_split=15, min_samples_leaf=1, n_estimators=400, max_features=auto \n",
      "[CV]  max_depth=5, min_samples_split=15, min_samples_leaf=1, n_estimators=400, max_features=auto, total=   0.9s\n",
      "[CV] max_depth=5, min_samples_split=15, min_samples_leaf=1, n_estimators=500, max_features=auto \n",
      "[CV]  max_depth=5, min_samples_split=15, min_samples_leaf=1, n_estimators=500, max_features=auto, total=   0.8s\n",
      "[CV] max_depth=5, min_samples_split=15, min_samples_leaf=1, n_estimators=500, max_features=auto \n"
     ]
    },
    {
     "name": "stdout",
     "output_type": "stream",
     "text": [
      "[CV]  max_depth=5, min_samples_split=15, min_samples_leaf=1, n_estimators=500, max_features=auto, total=   0.9s\n",
      "[CV] max_depth=5, min_samples_split=15, min_samples_leaf=1, n_estimators=500, max_features=auto \n",
      "[CV]  max_depth=5, min_samples_split=15, min_samples_leaf=1, n_estimators=500, max_features=auto, total=   0.7s\n",
      "[CV] max_depth=5, min_samples_split=15, min_samples_leaf=1, n_estimators=500, max_features=auto \n",
      "[CV]  max_depth=5, min_samples_split=15, min_samples_leaf=1, n_estimators=500, max_features=auto, total=   0.7s\n",
      "[CV] max_depth=5, min_samples_split=15, min_samples_leaf=1, n_estimators=500, max_features=auto \n",
      "[CV]  max_depth=5, min_samples_split=15, min_samples_leaf=1, n_estimators=500, max_features=auto, total=   0.7s\n",
      "[CV] max_depth=5, min_samples_split=15, min_samples_leaf=1, n_estimators=600, max_features=auto \n",
      "[CV]  max_depth=5, min_samples_split=15, min_samples_leaf=1, n_estimators=600, max_features=auto, total=   0.9s\n",
      "[CV] max_depth=5, min_samples_split=15, min_samples_leaf=1, n_estimators=600, max_features=auto \n",
      "[CV]  max_depth=5, min_samples_split=15, min_samples_leaf=1, n_estimators=600, max_features=auto, total=   0.8s\n",
      "[CV] max_depth=5, min_samples_split=15, min_samples_leaf=1, n_estimators=600, max_features=auto \n",
      "[CV]  max_depth=5, min_samples_split=15, min_samples_leaf=1, n_estimators=600, max_features=auto, total=   0.9s\n",
      "[CV] max_depth=5, min_samples_split=15, min_samples_leaf=1, n_estimators=600, max_features=auto \n",
      "[CV]  max_depth=5, min_samples_split=15, min_samples_leaf=1, n_estimators=600, max_features=auto, total=   0.8s\n",
      "[CV] max_depth=5, min_samples_split=15, min_samples_leaf=1, n_estimators=600, max_features=auto \n",
      "[CV]  max_depth=5, min_samples_split=15, min_samples_leaf=1, n_estimators=600, max_features=auto, total=   0.9s\n",
      "[CV] max_depth=5, min_samples_split=15, min_samples_leaf=1, n_estimators=700, max_features=auto \n",
      "[CV]  max_depth=5, min_samples_split=15, min_samples_leaf=1, n_estimators=700, max_features=auto, total=   1.0s\n",
      "[CV] max_depth=5, min_samples_split=15, min_samples_leaf=1, n_estimators=700, max_features=auto \n",
      "[CV]  max_depth=5, min_samples_split=15, min_samples_leaf=1, n_estimators=700, max_features=auto, total=   1.2s\n",
      "[CV] max_depth=5, min_samples_split=15, min_samples_leaf=1, n_estimators=700, max_features=auto \n",
      "[CV]  max_depth=5, min_samples_split=15, min_samples_leaf=1, n_estimators=700, max_features=auto, total=   1.3s\n",
      "[CV] max_depth=5, min_samples_split=15, min_samples_leaf=1, n_estimators=700, max_features=auto \n",
      "[CV]  max_depth=5, min_samples_split=15, min_samples_leaf=1, n_estimators=700, max_features=auto, total=   1.4s\n",
      "[CV] max_depth=5, min_samples_split=15, min_samples_leaf=1, n_estimators=700, max_features=auto \n",
      "[CV]  max_depth=5, min_samples_split=15, min_samples_leaf=1, n_estimators=700, max_features=auto, total=   1.1s\n",
      "[CV] max_depth=5, min_samples_split=15, min_samples_leaf=1, n_estimators=800, max_features=auto \n",
      "[CV]  max_depth=5, min_samples_split=15, min_samples_leaf=1, n_estimators=800, max_features=auto, total=   1.3s\n",
      "[CV] max_depth=5, min_samples_split=15, min_samples_leaf=1, n_estimators=800, max_features=auto \n",
      "[CV]  max_depth=5, min_samples_split=15, min_samples_leaf=1, n_estimators=800, max_features=auto, total=   1.2s\n",
      "[CV] max_depth=5, min_samples_split=15, min_samples_leaf=1, n_estimators=800, max_features=auto \n",
      "[CV]  max_depth=5, min_samples_split=15, min_samples_leaf=1, n_estimators=800, max_features=auto, total=   1.3s\n",
      "[CV] max_depth=5, min_samples_split=15, min_samples_leaf=1, n_estimators=800, max_features=auto \n",
      "[CV]  max_depth=5, min_samples_split=15, min_samples_leaf=1, n_estimators=800, max_features=auto, total=   1.2s\n",
      "[CV] max_depth=5, min_samples_split=15, min_samples_leaf=1, n_estimators=800, max_features=auto \n",
      "[CV]  max_depth=5, min_samples_split=15, min_samples_leaf=1, n_estimators=800, max_features=auto, total=   1.5s\n",
      "[CV] max_depth=5, min_samples_split=15, min_samples_leaf=1, n_estimators=900, max_features=auto \n",
      "[CV]  max_depth=5, min_samples_split=15, min_samples_leaf=1, n_estimators=900, max_features=auto, total=   1.4s\n",
      "[CV] max_depth=5, min_samples_split=15, min_samples_leaf=1, n_estimators=900, max_features=auto \n",
      "[CV]  max_depth=5, min_samples_split=15, min_samples_leaf=1, n_estimators=900, max_features=auto, total=   1.6s\n",
      "[CV] max_depth=5, min_samples_split=15, min_samples_leaf=1, n_estimators=900, max_features=auto \n",
      "[CV]  max_depth=5, min_samples_split=15, min_samples_leaf=1, n_estimators=900, max_features=auto, total=   1.3s\n",
      "[CV] max_depth=5, min_samples_split=15, min_samples_leaf=1, n_estimators=900, max_features=auto \n",
      "[CV]  max_depth=5, min_samples_split=15, min_samples_leaf=1, n_estimators=900, max_features=auto, total=   1.3s\n",
      "[CV] max_depth=5, min_samples_split=15, min_samples_leaf=1, n_estimators=900, max_features=auto \n",
      "[CV]  max_depth=5, min_samples_split=15, min_samples_leaf=1, n_estimators=900, max_features=auto, total=   1.4s\n",
      "[CV] max_depth=5, min_samples_split=15, min_samples_leaf=1, n_estimators=1000, max_features=auto \n",
      "[CV]  max_depth=5, min_samples_split=15, min_samples_leaf=1, n_estimators=1000, max_features=auto, total=   1.5s\n",
      "[CV] max_depth=5, min_samples_split=15, min_samples_leaf=1, n_estimators=1000, max_features=auto \n",
      "[CV]  max_depth=5, min_samples_split=15, min_samples_leaf=1, n_estimators=1000, max_features=auto, total=   1.5s\n",
      "[CV] max_depth=5, min_samples_split=15, min_samples_leaf=1, n_estimators=1000, max_features=auto \n",
      "[CV]  max_depth=5, min_samples_split=15, min_samples_leaf=1, n_estimators=1000, max_features=auto, total=   1.5s\n",
      "[CV] max_depth=5, min_samples_split=15, min_samples_leaf=1, n_estimators=1000, max_features=auto \n",
      "[CV]  max_depth=5, min_samples_split=15, min_samples_leaf=1, n_estimators=1000, max_features=auto, total=   1.5s\n",
      "[CV] max_depth=5, min_samples_split=15, min_samples_leaf=1, n_estimators=1000, max_features=auto \n",
      "[CV]  max_depth=5, min_samples_split=15, min_samples_leaf=1, n_estimators=1000, max_features=auto, total=   1.6s\n",
      "[CV] max_depth=5, min_samples_split=15, min_samples_leaf=1, n_estimators=1100, max_features=auto \n",
      "[CV]  max_depth=5, min_samples_split=15, min_samples_leaf=1, n_estimators=1100, max_features=auto, total=   1.8s\n",
      "[CV] max_depth=5, min_samples_split=15, min_samples_leaf=1, n_estimators=1100, max_features=auto \n",
      "[CV]  max_depth=5, min_samples_split=15, min_samples_leaf=1, n_estimators=1100, max_features=auto, total=   1.6s\n",
      "[CV] max_depth=5, min_samples_split=15, min_samples_leaf=1, n_estimators=1100, max_features=auto \n",
      "[CV]  max_depth=5, min_samples_split=15, min_samples_leaf=1, n_estimators=1100, max_features=auto, total=   1.7s\n",
      "[CV] max_depth=5, min_samples_split=15, min_samples_leaf=1, n_estimators=1100, max_features=auto \n",
      "[CV]  max_depth=5, min_samples_split=15, min_samples_leaf=1, n_estimators=1100, max_features=auto, total=   1.6s\n",
      "[CV] max_depth=5, min_samples_split=15, min_samples_leaf=1, n_estimators=1100, max_features=auto \n",
      "[CV]  max_depth=5, min_samples_split=15, min_samples_leaf=1, n_estimators=1100, max_features=auto, total=   1.6s\n",
      "[CV] max_depth=5, min_samples_split=15, min_samples_leaf=1, n_estimators=1200, max_features=auto \n",
      "[CV]  max_depth=5, min_samples_split=15, min_samples_leaf=1, n_estimators=1200, max_features=auto, total=   1.8s\n",
      "[CV] max_depth=5, min_samples_split=15, min_samples_leaf=1, n_estimators=1200, max_features=auto \n",
      "[CV]  max_depth=5, min_samples_split=15, min_samples_leaf=1, n_estimators=1200, max_features=auto, total=   1.8s\n",
      "[CV] max_depth=5, min_samples_split=15, min_samples_leaf=1, n_estimators=1200, max_features=auto \n",
      "[CV]  max_depth=5, min_samples_split=15, min_samples_leaf=1, n_estimators=1200, max_features=auto, total=   1.8s\n",
      "[CV] max_depth=5, min_samples_split=15, min_samples_leaf=1, n_estimators=1200, max_features=auto \n",
      "[CV]  max_depth=5, min_samples_split=15, min_samples_leaf=1, n_estimators=1200, max_features=auto, total=   1.8s\n",
      "[CV] max_depth=5, min_samples_split=15, min_samples_leaf=1, n_estimators=1200, max_features=auto \n",
      "[CV]  max_depth=5, min_samples_split=15, min_samples_leaf=1, n_estimators=1200, max_features=auto, total=   1.7s\n",
      "[CV] max_depth=5, min_samples_split=100, min_samples_leaf=1, n_estimators=100, max_features=auto \n",
      "[CV]  max_depth=5, min_samples_split=100, min_samples_leaf=1, n_estimators=100, max_features=auto, total=   0.1s\n",
      "[CV] max_depth=5, min_samples_split=100, min_samples_leaf=1, n_estimators=100, max_features=auto \n"
     ]
    },
    {
     "name": "stdout",
     "output_type": "stream",
     "text": [
      "[CV]  max_depth=5, min_samples_split=100, min_samples_leaf=1, n_estimators=100, max_features=auto, total=   0.2s\n",
      "[CV] max_depth=5, min_samples_split=100, min_samples_leaf=1, n_estimators=100, max_features=auto \n",
      "[CV]  max_depth=5, min_samples_split=100, min_samples_leaf=1, n_estimators=100, max_features=auto, total=   0.1s\n",
      "[CV] max_depth=5, min_samples_split=100, min_samples_leaf=1, n_estimators=100, max_features=auto \n",
      "[CV]  max_depth=5, min_samples_split=100, min_samples_leaf=1, n_estimators=100, max_features=auto, total=   0.1s\n",
      "[CV] max_depth=5, min_samples_split=100, min_samples_leaf=1, n_estimators=100, max_features=auto \n",
      "[CV]  max_depth=5, min_samples_split=100, min_samples_leaf=1, n_estimators=100, max_features=auto, total=   0.1s\n",
      "[CV] max_depth=5, min_samples_split=100, min_samples_leaf=1, n_estimators=200, max_features=auto \n",
      "[CV]  max_depth=5, min_samples_split=100, min_samples_leaf=1, n_estimators=200, max_features=auto, total=   0.3s\n",
      "[CV] max_depth=5, min_samples_split=100, min_samples_leaf=1, n_estimators=200, max_features=auto \n",
      "[CV]  max_depth=5, min_samples_split=100, min_samples_leaf=1, n_estimators=200, max_features=auto, total=   0.3s\n",
      "[CV] max_depth=5, min_samples_split=100, min_samples_leaf=1, n_estimators=200, max_features=auto \n",
      "[CV]  max_depth=5, min_samples_split=100, min_samples_leaf=1, n_estimators=200, max_features=auto, total=   0.3s\n",
      "[CV] max_depth=5, min_samples_split=100, min_samples_leaf=1, n_estimators=200, max_features=auto \n",
      "[CV]  max_depth=5, min_samples_split=100, min_samples_leaf=1, n_estimators=200, max_features=auto, total=   0.3s\n",
      "[CV] max_depth=5, min_samples_split=100, min_samples_leaf=1, n_estimators=200, max_features=auto \n",
      "[CV]  max_depth=5, min_samples_split=100, min_samples_leaf=1, n_estimators=200, max_features=auto, total=   0.3s\n",
      "[CV] max_depth=5, min_samples_split=100, min_samples_leaf=1, n_estimators=300, max_features=auto \n",
      "[CV]  max_depth=5, min_samples_split=100, min_samples_leaf=1, n_estimators=300, max_features=auto, total=   0.4s\n",
      "[CV] max_depth=5, min_samples_split=100, min_samples_leaf=1, n_estimators=300, max_features=auto \n",
      "[CV]  max_depth=5, min_samples_split=100, min_samples_leaf=1, n_estimators=300, max_features=auto, total=   0.4s\n",
      "[CV] max_depth=5, min_samples_split=100, min_samples_leaf=1, n_estimators=300, max_features=auto \n",
      "[CV]  max_depth=5, min_samples_split=100, min_samples_leaf=1, n_estimators=300, max_features=auto, total=   0.4s\n",
      "[CV] max_depth=5, min_samples_split=100, min_samples_leaf=1, n_estimators=300, max_features=auto \n",
      "[CV]  max_depth=5, min_samples_split=100, min_samples_leaf=1, n_estimators=300, max_features=auto, total=   0.4s\n",
      "[CV] max_depth=5, min_samples_split=100, min_samples_leaf=1, n_estimators=300, max_features=auto \n",
      "[CV]  max_depth=5, min_samples_split=100, min_samples_leaf=1, n_estimators=300, max_features=auto, total=   0.4s\n",
      "[CV] max_depth=5, min_samples_split=100, min_samples_leaf=1, n_estimators=400, max_features=auto \n",
      "[CV]  max_depth=5, min_samples_split=100, min_samples_leaf=1, n_estimators=400, max_features=auto, total=   0.6s\n",
      "[CV] max_depth=5, min_samples_split=100, min_samples_leaf=1, n_estimators=400, max_features=auto \n",
      "[CV]  max_depth=5, min_samples_split=100, min_samples_leaf=1, n_estimators=400, max_features=auto, total=   0.6s\n",
      "[CV] max_depth=5, min_samples_split=100, min_samples_leaf=1, n_estimators=400, max_features=auto \n",
      "[CV]  max_depth=5, min_samples_split=100, min_samples_leaf=1, n_estimators=400, max_features=auto, total=   0.6s\n",
      "[CV] max_depth=5, min_samples_split=100, min_samples_leaf=1, n_estimators=400, max_features=auto \n",
      "[CV]  max_depth=5, min_samples_split=100, min_samples_leaf=1, n_estimators=400, max_features=auto, total=   0.6s\n",
      "[CV] max_depth=5, min_samples_split=100, min_samples_leaf=1, n_estimators=400, max_features=auto \n",
      "[CV]  max_depth=5, min_samples_split=100, min_samples_leaf=1, n_estimators=400, max_features=auto, total=   0.6s\n",
      "[CV] max_depth=5, min_samples_split=100, min_samples_leaf=1, n_estimators=500, max_features=auto \n",
      "[CV]  max_depth=5, min_samples_split=100, min_samples_leaf=1, n_estimators=500, max_features=auto, total=   0.7s\n",
      "[CV] max_depth=5, min_samples_split=100, min_samples_leaf=1, n_estimators=500, max_features=auto \n",
      "[CV]  max_depth=5, min_samples_split=100, min_samples_leaf=1, n_estimators=500, max_features=auto, total=   0.7s\n",
      "[CV] max_depth=5, min_samples_split=100, min_samples_leaf=1, n_estimators=500, max_features=auto \n",
      "[CV]  max_depth=5, min_samples_split=100, min_samples_leaf=1, n_estimators=500, max_features=auto, total=   0.7s\n",
      "[CV] max_depth=5, min_samples_split=100, min_samples_leaf=1, n_estimators=500, max_features=auto \n",
      "[CV]  max_depth=5, min_samples_split=100, min_samples_leaf=1, n_estimators=500, max_features=auto, total=   0.7s\n",
      "[CV] max_depth=5, min_samples_split=100, min_samples_leaf=1, n_estimators=500, max_features=auto \n",
      "[CV]  max_depth=5, min_samples_split=100, min_samples_leaf=1, n_estimators=500, max_features=auto, total=   0.7s\n",
      "[CV] max_depth=5, min_samples_split=100, min_samples_leaf=1, n_estimators=600, max_features=auto \n",
      "[CV]  max_depth=5, min_samples_split=100, min_samples_leaf=1, n_estimators=600, max_features=auto, total=   0.9s\n",
      "[CV] max_depth=5, min_samples_split=100, min_samples_leaf=1, n_estimators=600, max_features=auto \n",
      "[CV]  max_depth=5, min_samples_split=100, min_samples_leaf=1, n_estimators=600, max_features=auto, total=   1.1s\n",
      "[CV] max_depth=5, min_samples_split=100, min_samples_leaf=1, n_estimators=600, max_features=auto \n",
      "[CV]  max_depth=5, min_samples_split=100, min_samples_leaf=1, n_estimators=600, max_features=auto, total=   1.0s\n",
      "[CV] max_depth=5, min_samples_split=100, min_samples_leaf=1, n_estimators=600, max_features=auto \n",
      "[CV]  max_depth=5, min_samples_split=100, min_samples_leaf=1, n_estimators=600, max_features=auto, total=   0.9s\n",
      "[CV] max_depth=5, min_samples_split=100, min_samples_leaf=1, n_estimators=600, max_features=auto \n",
      "[CV]  max_depth=5, min_samples_split=100, min_samples_leaf=1, n_estimators=600, max_features=auto, total=   0.9s\n",
      "[CV] max_depth=5, min_samples_split=100, min_samples_leaf=1, n_estimators=700, max_features=auto \n",
      "[CV]  max_depth=5, min_samples_split=100, min_samples_leaf=1, n_estimators=700, max_features=auto, total=   1.0s\n",
      "[CV] max_depth=5, min_samples_split=100, min_samples_leaf=1, n_estimators=700, max_features=auto \n",
      "[CV]  max_depth=5, min_samples_split=100, min_samples_leaf=1, n_estimators=700, max_features=auto, total=   1.1s\n",
      "[CV] max_depth=5, min_samples_split=100, min_samples_leaf=1, n_estimators=700, max_features=auto \n",
      "[CV]  max_depth=5, min_samples_split=100, min_samples_leaf=1, n_estimators=700, max_features=auto, total=   1.1s\n",
      "[CV] max_depth=5, min_samples_split=100, min_samples_leaf=1, n_estimators=700, max_features=auto \n",
      "[CV]  max_depth=5, min_samples_split=100, min_samples_leaf=1, n_estimators=700, max_features=auto, total=   1.5s\n",
      "[CV] max_depth=5, min_samples_split=100, min_samples_leaf=1, n_estimators=700, max_features=auto \n",
      "[CV]  max_depth=5, min_samples_split=100, min_samples_leaf=1, n_estimators=700, max_features=auto, total=   1.1s\n",
      "[CV] max_depth=5, min_samples_split=100, min_samples_leaf=1, n_estimators=800, max_features=auto \n",
      "[CV]  max_depth=5, min_samples_split=100, min_samples_leaf=1, n_estimators=800, max_features=auto, total=   1.6s\n",
      "[CV] max_depth=5, min_samples_split=100, min_samples_leaf=1, n_estimators=800, max_features=auto \n",
      "[CV]  max_depth=5, min_samples_split=100, min_samples_leaf=1, n_estimators=800, max_features=auto, total=   1.2s\n",
      "[CV] max_depth=5, min_samples_split=100, min_samples_leaf=1, n_estimators=800, max_features=auto \n",
      "[CV]  max_depth=5, min_samples_split=100, min_samples_leaf=1, n_estimators=800, max_features=auto, total=   1.2s\n",
      "[CV] max_depth=5, min_samples_split=100, min_samples_leaf=1, n_estimators=800, max_features=auto \n",
      "[CV]  max_depth=5, min_samples_split=100, min_samples_leaf=1, n_estimators=800, max_features=auto, total=   1.2s\n",
      "[CV] max_depth=5, min_samples_split=100, min_samples_leaf=1, n_estimators=800, max_features=auto \n",
      "[CV]  max_depth=5, min_samples_split=100, min_samples_leaf=1, n_estimators=800, max_features=auto, total=   1.2s\n",
      "[CV] max_depth=5, min_samples_split=100, min_samples_leaf=1, n_estimators=900, max_features=auto \n"
     ]
    },
    {
     "name": "stdout",
     "output_type": "stream",
     "text": [
      "[CV]  max_depth=5, min_samples_split=100, min_samples_leaf=1, n_estimators=900, max_features=auto, total=   1.3s\n",
      "[CV] max_depth=5, min_samples_split=100, min_samples_leaf=1, n_estimators=900, max_features=auto \n",
      "[CV]  max_depth=5, min_samples_split=100, min_samples_leaf=1, n_estimators=900, max_features=auto, total=   1.9s\n",
      "[CV] max_depth=5, min_samples_split=100, min_samples_leaf=1, n_estimators=900, max_features=auto \n",
      "[CV]  max_depth=5, min_samples_split=100, min_samples_leaf=1, n_estimators=900, max_features=auto, total=   2.0s\n",
      "[CV] max_depth=5, min_samples_split=100, min_samples_leaf=1, n_estimators=900, max_features=auto \n",
      "[CV]  max_depth=5, min_samples_split=100, min_samples_leaf=1, n_estimators=900, max_features=auto, total=   2.2s\n",
      "[CV] max_depth=5, min_samples_split=100, min_samples_leaf=1, n_estimators=900, max_features=auto \n",
      "[CV]  max_depth=5, min_samples_split=100, min_samples_leaf=1, n_estimators=900, max_features=auto, total=   2.1s\n",
      "[CV] max_depth=5, min_samples_split=100, min_samples_leaf=1, n_estimators=1000, max_features=auto \n",
      "[CV]  max_depth=5, min_samples_split=100, min_samples_leaf=1, n_estimators=1000, max_features=auto, total=   1.9s\n",
      "[CV] max_depth=5, min_samples_split=100, min_samples_leaf=1, n_estimators=1000, max_features=auto \n",
      "[CV]  max_depth=5, min_samples_split=100, min_samples_leaf=1, n_estimators=1000, max_features=auto, total=   1.7s\n",
      "[CV] max_depth=5, min_samples_split=100, min_samples_leaf=1, n_estimators=1000, max_features=auto \n",
      "[CV]  max_depth=5, min_samples_split=100, min_samples_leaf=1, n_estimators=1000, max_features=auto, total=   1.4s\n",
      "[CV] max_depth=5, min_samples_split=100, min_samples_leaf=1, n_estimators=1000, max_features=auto \n",
      "[CV]  max_depth=5, min_samples_split=100, min_samples_leaf=1, n_estimators=1000, max_features=auto, total=   1.5s\n",
      "[CV] max_depth=5, min_samples_split=100, min_samples_leaf=1, n_estimators=1000, max_features=auto \n",
      "[CV]  max_depth=5, min_samples_split=100, min_samples_leaf=1, n_estimators=1000, max_features=auto, total=   1.5s\n",
      "[CV] max_depth=5, min_samples_split=100, min_samples_leaf=1, n_estimators=1100, max_features=auto \n",
      "[CV]  max_depth=5, min_samples_split=100, min_samples_leaf=1, n_estimators=1100, max_features=auto, total=   1.6s\n",
      "[CV] max_depth=5, min_samples_split=100, min_samples_leaf=1, n_estimators=1100, max_features=auto \n",
      "[CV]  max_depth=5, min_samples_split=100, min_samples_leaf=1, n_estimators=1100, max_features=auto, total=   1.7s\n",
      "[CV] max_depth=5, min_samples_split=100, min_samples_leaf=1, n_estimators=1100, max_features=auto \n",
      "[CV]  max_depth=5, min_samples_split=100, min_samples_leaf=1, n_estimators=1100, max_features=auto, total=   1.9s\n",
      "[CV] max_depth=5, min_samples_split=100, min_samples_leaf=1, n_estimators=1100, max_features=auto \n",
      "[CV]  max_depth=5, min_samples_split=100, min_samples_leaf=1, n_estimators=1100, max_features=auto, total=   1.7s\n",
      "[CV] max_depth=5, min_samples_split=100, min_samples_leaf=1, n_estimators=1100, max_features=auto \n",
      "[CV]  max_depth=5, min_samples_split=100, min_samples_leaf=1, n_estimators=1100, max_features=auto, total=   1.7s\n",
      "[CV] max_depth=5, min_samples_split=100, min_samples_leaf=1, n_estimators=1200, max_features=auto \n",
      "[CV]  max_depth=5, min_samples_split=100, min_samples_leaf=1, n_estimators=1200, max_features=auto, total=   1.9s\n",
      "[CV] max_depth=5, min_samples_split=100, min_samples_leaf=1, n_estimators=1200, max_features=auto \n",
      "[CV]  max_depth=5, min_samples_split=100, min_samples_leaf=1, n_estimators=1200, max_features=auto, total=   1.9s\n",
      "[CV] max_depth=5, min_samples_split=100, min_samples_leaf=1, n_estimators=1200, max_features=auto \n",
      "[CV]  max_depth=5, min_samples_split=100, min_samples_leaf=1, n_estimators=1200, max_features=auto, total=   1.8s\n",
      "[CV] max_depth=5, min_samples_split=100, min_samples_leaf=1, n_estimators=1200, max_features=auto \n",
      "[CV]  max_depth=5, min_samples_split=100, min_samples_leaf=1, n_estimators=1200, max_features=auto, total=   1.7s\n",
      "[CV] max_depth=5, min_samples_split=100, min_samples_leaf=1, n_estimators=1200, max_features=auto \n",
      "[CV]  max_depth=5, min_samples_split=100, min_samples_leaf=1, n_estimators=1200, max_features=auto, total=   2.0s\n",
      "[CV] max_depth=5, min_samples_split=2, min_samples_leaf=2, n_estimators=100, max_features=auto \n",
      "[CV]  max_depth=5, min_samples_split=2, min_samples_leaf=2, n_estimators=100, max_features=auto, total=   0.3s\n",
      "[CV] max_depth=5, min_samples_split=2, min_samples_leaf=2, n_estimators=100, max_features=auto \n",
      "[CV]  max_depth=5, min_samples_split=2, min_samples_leaf=2, n_estimators=100, max_features=auto, total=   0.2s\n",
      "[CV] max_depth=5, min_samples_split=2, min_samples_leaf=2, n_estimators=100, max_features=auto \n",
      "[CV]  max_depth=5, min_samples_split=2, min_samples_leaf=2, n_estimators=100, max_features=auto, total=   0.2s\n",
      "[CV] max_depth=5, min_samples_split=2, min_samples_leaf=2, n_estimators=100, max_features=auto \n",
      "[CV]  max_depth=5, min_samples_split=2, min_samples_leaf=2, n_estimators=100, max_features=auto, total=   0.2s\n",
      "[CV] max_depth=5, min_samples_split=2, min_samples_leaf=2, n_estimators=100, max_features=auto \n",
      "[CV]  max_depth=5, min_samples_split=2, min_samples_leaf=2, n_estimators=100, max_features=auto, total=   0.2s\n",
      "[CV] max_depth=5, min_samples_split=2, min_samples_leaf=2, n_estimators=200, max_features=auto \n",
      "[CV]  max_depth=5, min_samples_split=2, min_samples_leaf=2, n_estimators=200, max_features=auto, total=   0.3s\n",
      "[CV] max_depth=5, min_samples_split=2, min_samples_leaf=2, n_estimators=200, max_features=auto \n",
      "[CV]  max_depth=5, min_samples_split=2, min_samples_leaf=2, n_estimators=200, max_features=auto, total=   0.4s\n",
      "[CV] max_depth=5, min_samples_split=2, min_samples_leaf=2, n_estimators=200, max_features=auto \n",
      "[CV]  max_depth=5, min_samples_split=2, min_samples_leaf=2, n_estimators=200, max_features=auto, total=   0.5s\n",
      "[CV] max_depth=5, min_samples_split=2, min_samples_leaf=2, n_estimators=200, max_features=auto \n",
      "[CV]  max_depth=5, min_samples_split=2, min_samples_leaf=2, n_estimators=200, max_features=auto, total=   0.3s\n",
      "[CV] max_depth=5, min_samples_split=2, min_samples_leaf=2, n_estimators=200, max_features=auto \n",
      "[CV]  max_depth=5, min_samples_split=2, min_samples_leaf=2, n_estimators=200, max_features=auto, total=   0.7s\n",
      "[CV] max_depth=5, min_samples_split=2, min_samples_leaf=2, n_estimators=300, max_features=auto \n",
      "[CV]  max_depth=5, min_samples_split=2, min_samples_leaf=2, n_estimators=300, max_features=auto, total=   0.4s\n",
      "[CV] max_depth=5, min_samples_split=2, min_samples_leaf=2, n_estimators=300, max_features=auto \n",
      "[CV]  max_depth=5, min_samples_split=2, min_samples_leaf=2, n_estimators=300, max_features=auto, total=   0.6s\n",
      "[CV] max_depth=5, min_samples_split=2, min_samples_leaf=2, n_estimators=300, max_features=auto \n",
      "[CV]  max_depth=5, min_samples_split=2, min_samples_leaf=2, n_estimators=300, max_features=auto, total=   0.5s\n",
      "[CV] max_depth=5, min_samples_split=2, min_samples_leaf=2, n_estimators=300, max_features=auto \n",
      "[CV]  max_depth=5, min_samples_split=2, min_samples_leaf=2, n_estimators=300, max_features=auto, total=   0.4s\n",
      "[CV] max_depth=5, min_samples_split=2, min_samples_leaf=2, n_estimators=300, max_features=auto \n",
      "[CV]  max_depth=5, min_samples_split=2, min_samples_leaf=2, n_estimators=300, max_features=auto, total=   0.5s\n",
      "[CV] max_depth=5, min_samples_split=2, min_samples_leaf=2, n_estimators=400, max_features=auto \n",
      "[CV]  max_depth=5, min_samples_split=2, min_samples_leaf=2, n_estimators=400, max_features=auto, total=   0.7s\n",
      "[CV] max_depth=5, min_samples_split=2, min_samples_leaf=2, n_estimators=400, max_features=auto \n",
      "[CV]  max_depth=5, min_samples_split=2, min_samples_leaf=2, n_estimators=400, max_features=auto, total=   0.6s\n",
      "[CV] max_depth=5, min_samples_split=2, min_samples_leaf=2, n_estimators=400, max_features=auto \n",
      "[CV]  max_depth=5, min_samples_split=2, min_samples_leaf=2, n_estimators=400, max_features=auto, total=   0.6s\n",
      "[CV] max_depth=5, min_samples_split=2, min_samples_leaf=2, n_estimators=400, max_features=auto \n",
      "[CV]  max_depth=5, min_samples_split=2, min_samples_leaf=2, n_estimators=400, max_features=auto, total=   0.7s\n",
      "[CV] max_depth=5, min_samples_split=2, min_samples_leaf=2, n_estimators=400, max_features=auto \n",
      "[CV]  max_depth=5, min_samples_split=2, min_samples_leaf=2, n_estimators=400, max_features=auto, total=   0.7s\n",
      "[CV] max_depth=5, min_samples_split=2, min_samples_leaf=2, n_estimators=500, max_features=auto \n"
     ]
    },
    {
     "name": "stdout",
     "output_type": "stream",
     "text": [
      "[CV]  max_depth=5, min_samples_split=2, min_samples_leaf=2, n_estimators=500, max_features=auto, total=   0.8s\n",
      "[CV] max_depth=5, min_samples_split=2, min_samples_leaf=2, n_estimators=500, max_features=auto \n",
      "[CV]  max_depth=5, min_samples_split=2, min_samples_leaf=2, n_estimators=500, max_features=auto, total=   0.8s\n",
      "[CV] max_depth=5, min_samples_split=2, min_samples_leaf=2, n_estimators=500, max_features=auto \n",
      "[CV]  max_depth=5, min_samples_split=2, min_samples_leaf=2, n_estimators=500, max_features=auto, total=   0.8s\n",
      "[CV] max_depth=5, min_samples_split=2, min_samples_leaf=2, n_estimators=500, max_features=auto \n",
      "[CV]  max_depth=5, min_samples_split=2, min_samples_leaf=2, n_estimators=500, max_features=auto, total=   0.8s\n",
      "[CV] max_depth=5, min_samples_split=2, min_samples_leaf=2, n_estimators=500, max_features=auto \n"
     ]
    },
    {
     "ename": "KeyboardInterrupt",
     "evalue": "",
     "output_type": "error",
     "traceback": [
      "\u001b[1;31m---------------------------------------------------------------------------\u001b[0m",
      "\u001b[1;31mKeyboardInterrupt\u001b[0m                         Traceback (most recent call last)",
      "\u001b[1;32m<ipython-input-123-cbb5b7498ac0>\u001b[0m in \u001b[0;36m<module>\u001b[1;34m()\u001b[0m\n\u001b[1;32m----> 1\u001b[1;33m \u001b[0mgs\u001b[0m\u001b[1;33m.\u001b[0m\u001b[0mfit\u001b[0m\u001b[1;33m(\u001b[0m\u001b[0mx_train\u001b[0m\u001b[1;33m,\u001b[0m \u001b[0my_train\u001b[0m\u001b[1;33m)\u001b[0m\u001b[1;33m\u001b[0m\u001b[0m\n\u001b[0m",
      "\u001b[1;32m~\\Anaconda3\\envs\\ml\\lib\\site-packages\\sklearn\\model_selection\\_search.py\u001b[0m in \u001b[0;36mfit\u001b[1;34m(self, X, y, groups, **fit_params)\u001b[0m\n\u001b[0;32m    686\u001b[0m                 \u001b[1;32mreturn\u001b[0m \u001b[0mresults\u001b[0m\u001b[1;33m\u001b[0m\u001b[0m\n\u001b[0;32m    687\u001b[0m \u001b[1;33m\u001b[0m\u001b[0m\n\u001b[1;32m--> 688\u001b[1;33m             \u001b[0mself\u001b[0m\u001b[1;33m.\u001b[0m\u001b[0m_run_search\u001b[0m\u001b[1;33m(\u001b[0m\u001b[0mevaluate_candidates\u001b[0m\u001b[1;33m)\u001b[0m\u001b[1;33m\u001b[0m\u001b[0m\n\u001b[0m\u001b[0;32m    689\u001b[0m \u001b[1;33m\u001b[0m\u001b[0m\n\u001b[0;32m    690\u001b[0m         \u001b[1;31m# For multi-metric evaluation, store the best_index_, best_params_ and\u001b[0m\u001b[1;33m\u001b[0m\u001b[1;33m\u001b[0m\u001b[0m\n",
      "\u001b[1;32m~\\Anaconda3\\envs\\ml\\lib\\site-packages\\sklearn\\model_selection\\_search.py\u001b[0m in \u001b[0;36m_run_search\u001b[1;34m(self, evaluate_candidates)\u001b[0m\n\u001b[0;32m   1147\u001b[0m     \u001b[1;32mdef\u001b[0m \u001b[0m_run_search\u001b[0m\u001b[1;33m(\u001b[0m\u001b[0mself\u001b[0m\u001b[1;33m,\u001b[0m \u001b[0mevaluate_candidates\u001b[0m\u001b[1;33m)\u001b[0m\u001b[1;33m:\u001b[0m\u001b[1;33m\u001b[0m\u001b[0m\n\u001b[0;32m   1148\u001b[0m         \u001b[1;34m\"\"\"Search all candidates in param_grid\"\"\"\u001b[0m\u001b[1;33m\u001b[0m\u001b[0m\n\u001b[1;32m-> 1149\u001b[1;33m         \u001b[0mevaluate_candidates\u001b[0m\u001b[1;33m(\u001b[0m\u001b[0mParameterGrid\u001b[0m\u001b[1;33m(\u001b[0m\u001b[0mself\u001b[0m\u001b[1;33m.\u001b[0m\u001b[0mparam_grid\u001b[0m\u001b[1;33m)\u001b[0m\u001b[1;33m)\u001b[0m\u001b[1;33m\u001b[0m\u001b[0m\n\u001b[0m\u001b[0;32m   1150\u001b[0m \u001b[1;33m\u001b[0m\u001b[0m\n\u001b[0;32m   1151\u001b[0m \u001b[1;33m\u001b[0m\u001b[0m\n",
      "\u001b[1;32m~\\Anaconda3\\envs\\ml\\lib\\site-packages\\sklearn\\model_selection\\_search.py\u001b[0m in \u001b[0;36mevaluate_candidates\u001b[1;34m(candidate_params)\u001b[0m\n\u001b[0;32m    665\u001b[0m                                \u001b[1;32mfor\u001b[0m \u001b[0mparameters\u001b[0m\u001b[1;33m,\u001b[0m \u001b[1;33m(\u001b[0m\u001b[0mtrain\u001b[0m\u001b[1;33m,\u001b[0m \u001b[0mtest\u001b[0m\u001b[1;33m)\u001b[0m\u001b[1;33m\u001b[0m\u001b[0m\n\u001b[0;32m    666\u001b[0m                                in product(candidate_params,\n\u001b[1;32m--> 667\u001b[1;33m                                           cv.split(X, y, groups)))\n\u001b[0m\u001b[0;32m    668\u001b[0m \u001b[1;33m\u001b[0m\u001b[0m\n\u001b[0;32m    669\u001b[0m                 \u001b[1;32mif\u001b[0m \u001b[0mlen\u001b[0m\u001b[1;33m(\u001b[0m\u001b[0mout\u001b[0m\u001b[1;33m)\u001b[0m \u001b[1;33m<\u001b[0m \u001b[1;36m1\u001b[0m\u001b[1;33m:\u001b[0m\u001b[1;33m\u001b[0m\u001b[0m\n",
      "\u001b[1;32m~\\Anaconda3\\envs\\ml\\lib\\site-packages\\joblib\\parallel.py\u001b[0m in \u001b[0;36m__call__\u001b[1;34m(self, iterable)\u001b[0m\n\u001b[0;32m   1004\u001b[0m                 \u001b[0mself\u001b[0m\u001b[1;33m.\u001b[0m\u001b[0m_iterating\u001b[0m \u001b[1;33m=\u001b[0m \u001b[0mself\u001b[0m\u001b[1;33m.\u001b[0m\u001b[0m_original_iterator\u001b[0m \u001b[1;32mis\u001b[0m \u001b[1;32mnot\u001b[0m \u001b[1;32mNone\u001b[0m\u001b[1;33m\u001b[0m\u001b[0m\n\u001b[0;32m   1005\u001b[0m \u001b[1;33m\u001b[0m\u001b[0m\n\u001b[1;32m-> 1006\u001b[1;33m             \u001b[1;32mwhile\u001b[0m \u001b[0mself\u001b[0m\u001b[1;33m.\u001b[0m\u001b[0mdispatch_one_batch\u001b[0m\u001b[1;33m(\u001b[0m\u001b[0miterator\u001b[0m\u001b[1;33m)\u001b[0m\u001b[1;33m:\u001b[0m\u001b[1;33m\u001b[0m\u001b[0m\n\u001b[0m\u001b[0;32m   1007\u001b[0m                 \u001b[1;32mpass\u001b[0m\u001b[1;33m\u001b[0m\u001b[0m\n\u001b[0;32m   1008\u001b[0m \u001b[1;33m\u001b[0m\u001b[0m\n",
      "\u001b[1;32m~\\Anaconda3\\envs\\ml\\lib\\site-packages\\joblib\\parallel.py\u001b[0m in \u001b[0;36mdispatch_one_batch\u001b[1;34m(self, iterator)\u001b[0m\n\u001b[0;32m    832\u001b[0m                 \u001b[1;32mreturn\u001b[0m \u001b[1;32mFalse\u001b[0m\u001b[1;33m\u001b[0m\u001b[0m\n\u001b[0;32m    833\u001b[0m             \u001b[1;32melse\u001b[0m\u001b[1;33m:\u001b[0m\u001b[1;33m\u001b[0m\u001b[0m\n\u001b[1;32m--> 834\u001b[1;33m                 \u001b[0mself\u001b[0m\u001b[1;33m.\u001b[0m\u001b[0m_dispatch\u001b[0m\u001b[1;33m(\u001b[0m\u001b[0mtasks\u001b[0m\u001b[1;33m)\u001b[0m\u001b[1;33m\u001b[0m\u001b[0m\n\u001b[0m\u001b[0;32m    835\u001b[0m                 \u001b[1;32mreturn\u001b[0m \u001b[1;32mTrue\u001b[0m\u001b[1;33m\u001b[0m\u001b[0m\n\u001b[0;32m    836\u001b[0m \u001b[1;33m\u001b[0m\u001b[0m\n",
      "\u001b[1;32m~\\Anaconda3\\envs\\ml\\lib\\site-packages\\joblib\\parallel.py\u001b[0m in \u001b[0;36m_dispatch\u001b[1;34m(self, batch)\u001b[0m\n\u001b[0;32m    751\u001b[0m         \u001b[1;32mwith\u001b[0m \u001b[0mself\u001b[0m\u001b[1;33m.\u001b[0m\u001b[0m_lock\u001b[0m\u001b[1;33m:\u001b[0m\u001b[1;33m\u001b[0m\u001b[0m\n\u001b[0;32m    752\u001b[0m             \u001b[0mjob_idx\u001b[0m \u001b[1;33m=\u001b[0m \u001b[0mlen\u001b[0m\u001b[1;33m(\u001b[0m\u001b[0mself\u001b[0m\u001b[1;33m.\u001b[0m\u001b[0m_jobs\u001b[0m\u001b[1;33m)\u001b[0m\u001b[1;33m\u001b[0m\u001b[0m\n\u001b[1;32m--> 753\u001b[1;33m             \u001b[0mjob\u001b[0m \u001b[1;33m=\u001b[0m \u001b[0mself\u001b[0m\u001b[1;33m.\u001b[0m\u001b[0m_backend\u001b[0m\u001b[1;33m.\u001b[0m\u001b[0mapply_async\u001b[0m\u001b[1;33m(\u001b[0m\u001b[0mbatch\u001b[0m\u001b[1;33m,\u001b[0m \u001b[0mcallback\u001b[0m\u001b[1;33m=\u001b[0m\u001b[0mcb\u001b[0m\u001b[1;33m)\u001b[0m\u001b[1;33m\u001b[0m\u001b[0m\n\u001b[0m\u001b[0;32m    754\u001b[0m             \u001b[1;31m# A job can complete so quickly than its callback is\u001b[0m\u001b[1;33m\u001b[0m\u001b[1;33m\u001b[0m\u001b[0m\n\u001b[0;32m    755\u001b[0m             \u001b[1;31m# called before we get here, causing self._jobs to\u001b[0m\u001b[1;33m\u001b[0m\u001b[1;33m\u001b[0m\u001b[0m\n",
      "\u001b[1;32m~\\Anaconda3\\envs\\ml\\lib\\site-packages\\joblib\\_parallel_backends.py\u001b[0m in \u001b[0;36mapply_async\u001b[1;34m(self, func, callback)\u001b[0m\n\u001b[0;32m    199\u001b[0m     \u001b[1;32mdef\u001b[0m \u001b[0mapply_async\u001b[0m\u001b[1;33m(\u001b[0m\u001b[0mself\u001b[0m\u001b[1;33m,\u001b[0m \u001b[0mfunc\u001b[0m\u001b[1;33m,\u001b[0m \u001b[0mcallback\u001b[0m\u001b[1;33m=\u001b[0m\u001b[1;32mNone\u001b[0m\u001b[1;33m)\u001b[0m\u001b[1;33m:\u001b[0m\u001b[1;33m\u001b[0m\u001b[0m\n\u001b[0;32m    200\u001b[0m         \u001b[1;34m\"\"\"Schedule a func to be run\"\"\"\u001b[0m\u001b[1;33m\u001b[0m\u001b[0m\n\u001b[1;32m--> 201\u001b[1;33m         \u001b[0mresult\u001b[0m \u001b[1;33m=\u001b[0m \u001b[0mImmediateResult\u001b[0m\u001b[1;33m(\u001b[0m\u001b[0mfunc\u001b[0m\u001b[1;33m)\u001b[0m\u001b[1;33m\u001b[0m\u001b[0m\n\u001b[0m\u001b[0;32m    202\u001b[0m         \u001b[1;32mif\u001b[0m \u001b[0mcallback\u001b[0m\u001b[1;33m:\u001b[0m\u001b[1;33m\u001b[0m\u001b[0m\n\u001b[0;32m    203\u001b[0m             \u001b[0mcallback\u001b[0m\u001b[1;33m(\u001b[0m\u001b[0mresult\u001b[0m\u001b[1;33m)\u001b[0m\u001b[1;33m\u001b[0m\u001b[0m\n",
      "\u001b[1;32m~\\Anaconda3\\envs\\ml\\lib\\site-packages\\joblib\\_parallel_backends.py\u001b[0m in \u001b[0;36m__init__\u001b[1;34m(self, batch)\u001b[0m\n\u001b[0;32m    580\u001b[0m         \u001b[1;31m# Don't delay the application, to avoid keeping the input\u001b[0m\u001b[1;33m\u001b[0m\u001b[1;33m\u001b[0m\u001b[0m\n\u001b[0;32m    581\u001b[0m         \u001b[1;31m# arguments in memory\u001b[0m\u001b[1;33m\u001b[0m\u001b[1;33m\u001b[0m\u001b[0m\n\u001b[1;32m--> 582\u001b[1;33m         \u001b[0mself\u001b[0m\u001b[1;33m.\u001b[0m\u001b[0mresults\u001b[0m \u001b[1;33m=\u001b[0m \u001b[0mbatch\u001b[0m\u001b[1;33m(\u001b[0m\u001b[1;33m)\u001b[0m\u001b[1;33m\u001b[0m\u001b[0m\n\u001b[0m\u001b[0;32m    583\u001b[0m \u001b[1;33m\u001b[0m\u001b[0m\n\u001b[0;32m    584\u001b[0m     \u001b[1;32mdef\u001b[0m \u001b[0mget\u001b[0m\u001b[1;33m(\u001b[0m\u001b[0mself\u001b[0m\u001b[1;33m)\u001b[0m\u001b[1;33m:\u001b[0m\u001b[1;33m\u001b[0m\u001b[0m\n",
      "\u001b[1;32m~\\Anaconda3\\envs\\ml\\lib\\site-packages\\joblib\\parallel.py\u001b[0m in \u001b[0;36m__call__\u001b[1;34m(self)\u001b[0m\n\u001b[0;32m    254\u001b[0m         \u001b[1;32mwith\u001b[0m \u001b[0mparallel_backend\u001b[0m\u001b[1;33m(\u001b[0m\u001b[0mself\u001b[0m\u001b[1;33m.\u001b[0m\u001b[0m_backend\u001b[0m\u001b[1;33m,\u001b[0m \u001b[0mn_jobs\u001b[0m\u001b[1;33m=\u001b[0m\u001b[0mself\u001b[0m\u001b[1;33m.\u001b[0m\u001b[0m_n_jobs\u001b[0m\u001b[1;33m)\u001b[0m\u001b[1;33m:\u001b[0m\u001b[1;33m\u001b[0m\u001b[0m\n\u001b[0;32m    255\u001b[0m             return [func(*args, **kwargs)\n\u001b[1;32m--> 256\u001b[1;33m                     for func, args, kwargs in self.items]\n\u001b[0m\u001b[0;32m    257\u001b[0m \u001b[1;33m\u001b[0m\u001b[0m\n\u001b[0;32m    258\u001b[0m     \u001b[1;32mdef\u001b[0m \u001b[0m__len__\u001b[0m\u001b[1;33m(\u001b[0m\u001b[0mself\u001b[0m\u001b[1;33m)\u001b[0m\u001b[1;33m:\u001b[0m\u001b[1;33m\u001b[0m\u001b[0m\n",
      "\u001b[1;32m~\\Anaconda3\\envs\\ml\\lib\\site-packages\\joblib\\parallel.py\u001b[0m in \u001b[0;36m<listcomp>\u001b[1;34m(.0)\u001b[0m\n\u001b[0;32m    254\u001b[0m         \u001b[1;32mwith\u001b[0m \u001b[0mparallel_backend\u001b[0m\u001b[1;33m(\u001b[0m\u001b[0mself\u001b[0m\u001b[1;33m.\u001b[0m\u001b[0m_backend\u001b[0m\u001b[1;33m,\u001b[0m \u001b[0mn_jobs\u001b[0m\u001b[1;33m=\u001b[0m\u001b[0mself\u001b[0m\u001b[1;33m.\u001b[0m\u001b[0m_n_jobs\u001b[0m\u001b[1;33m)\u001b[0m\u001b[1;33m:\u001b[0m\u001b[1;33m\u001b[0m\u001b[0m\n\u001b[0;32m    255\u001b[0m             return [func(*args, **kwargs)\n\u001b[1;32m--> 256\u001b[1;33m                     for func, args, kwargs in self.items]\n\u001b[0m\u001b[0;32m    257\u001b[0m \u001b[1;33m\u001b[0m\u001b[0m\n\u001b[0;32m    258\u001b[0m     \u001b[1;32mdef\u001b[0m \u001b[0m__len__\u001b[0m\u001b[1;33m(\u001b[0m\u001b[0mself\u001b[0m\u001b[1;33m)\u001b[0m\u001b[1;33m:\u001b[0m\u001b[1;33m\u001b[0m\u001b[0m\n",
      "\u001b[1;32m~\\Anaconda3\\envs\\ml\\lib\\site-packages\\sklearn\\model_selection\\_validation.py\u001b[0m in \u001b[0;36m_fit_and_score\u001b[1;34m(estimator, X, y, scorer, train, test, verbose, parameters, fit_params, return_train_score, return_parameters, return_n_test_samples, return_times, return_estimator, error_score)\u001b[0m\n\u001b[0;32m    554\u001b[0m         \u001b[0mfit_time\u001b[0m \u001b[1;33m=\u001b[0m \u001b[0mtime\u001b[0m\u001b[1;33m.\u001b[0m\u001b[0mtime\u001b[0m\u001b[1;33m(\u001b[0m\u001b[1;33m)\u001b[0m \u001b[1;33m-\u001b[0m \u001b[0mstart_time\u001b[0m\u001b[1;33m\u001b[0m\u001b[0m\n\u001b[0;32m    555\u001b[0m         \u001b[1;31m# _score will return dict if is_multimetric is True\u001b[0m\u001b[1;33m\u001b[0m\u001b[1;33m\u001b[0m\u001b[0m\n\u001b[1;32m--> 556\u001b[1;33m         \u001b[0mtest_scores\u001b[0m \u001b[1;33m=\u001b[0m \u001b[0m_score\u001b[0m\u001b[1;33m(\u001b[0m\u001b[0mestimator\u001b[0m\u001b[1;33m,\u001b[0m \u001b[0mX_test\u001b[0m\u001b[1;33m,\u001b[0m \u001b[0my_test\u001b[0m\u001b[1;33m,\u001b[0m \u001b[0mscorer\u001b[0m\u001b[1;33m,\u001b[0m \u001b[0mis_multimetric\u001b[0m\u001b[1;33m)\u001b[0m\u001b[1;33m\u001b[0m\u001b[0m\n\u001b[0m\u001b[0;32m    557\u001b[0m         \u001b[0mscore_time\u001b[0m \u001b[1;33m=\u001b[0m \u001b[0mtime\u001b[0m\u001b[1;33m.\u001b[0m\u001b[0mtime\u001b[0m\u001b[1;33m(\u001b[0m\u001b[1;33m)\u001b[0m \u001b[1;33m-\u001b[0m \u001b[0mstart_time\u001b[0m \u001b[1;33m-\u001b[0m \u001b[0mfit_time\u001b[0m\u001b[1;33m\u001b[0m\u001b[0m\n\u001b[0;32m    558\u001b[0m         \u001b[1;32mif\u001b[0m \u001b[0mreturn_train_score\u001b[0m\u001b[1;33m:\u001b[0m\u001b[1;33m\u001b[0m\u001b[0m\n",
      "\u001b[1;32m~\\Anaconda3\\envs\\ml\\lib\\site-packages\\sklearn\\model_selection\\_validation.py\u001b[0m in \u001b[0;36m_score\u001b[1;34m(estimator, X_test, y_test, scorer, is_multimetric)\u001b[0m\n\u001b[0;32m    597\u001b[0m     \"\"\"\n\u001b[0;32m    598\u001b[0m     \u001b[1;32mif\u001b[0m \u001b[0mis_multimetric\u001b[0m\u001b[1;33m:\u001b[0m\u001b[1;33m\u001b[0m\u001b[0m\n\u001b[1;32m--> 599\u001b[1;33m         \u001b[1;32mreturn\u001b[0m \u001b[0m_multimetric_score\u001b[0m\u001b[1;33m(\u001b[0m\u001b[0mestimator\u001b[0m\u001b[1;33m,\u001b[0m \u001b[0mX_test\u001b[0m\u001b[1;33m,\u001b[0m \u001b[0my_test\u001b[0m\u001b[1;33m,\u001b[0m \u001b[0mscorer\u001b[0m\u001b[1;33m)\u001b[0m\u001b[1;33m\u001b[0m\u001b[0m\n\u001b[0m\u001b[0;32m    600\u001b[0m     \u001b[1;32melse\u001b[0m\u001b[1;33m:\u001b[0m\u001b[1;33m\u001b[0m\u001b[0m\n\u001b[0;32m    601\u001b[0m         \u001b[1;32mif\u001b[0m \u001b[0my_test\u001b[0m \u001b[1;32mis\u001b[0m \u001b[1;32mNone\u001b[0m\u001b[1;33m:\u001b[0m\u001b[1;33m\u001b[0m\u001b[0m\n",
      "\u001b[1;32m~\\Anaconda3\\envs\\ml\\lib\\site-packages\\sklearn\\model_selection\\_validation.py\u001b[0m in \u001b[0;36m_multimetric_score\u001b[1;34m(estimator, X_test, y_test, scorers)\u001b[0m\n\u001b[0;32m    627\u001b[0m             \u001b[0mscore\u001b[0m \u001b[1;33m=\u001b[0m \u001b[0mscorer\u001b[0m\u001b[1;33m(\u001b[0m\u001b[0mestimator\u001b[0m\u001b[1;33m,\u001b[0m \u001b[0mX_test\u001b[0m\u001b[1;33m)\u001b[0m\u001b[1;33m\u001b[0m\u001b[0m\n\u001b[0;32m    628\u001b[0m         \u001b[1;32melse\u001b[0m\u001b[1;33m:\u001b[0m\u001b[1;33m\u001b[0m\u001b[0m\n\u001b[1;32m--> 629\u001b[1;33m             \u001b[0mscore\u001b[0m \u001b[1;33m=\u001b[0m \u001b[0mscorer\u001b[0m\u001b[1;33m(\u001b[0m\u001b[0mestimator\u001b[0m\u001b[1;33m,\u001b[0m \u001b[0mX_test\u001b[0m\u001b[1;33m,\u001b[0m \u001b[0my_test\u001b[0m\u001b[1;33m)\u001b[0m\u001b[1;33m\u001b[0m\u001b[0m\n\u001b[0m\u001b[0;32m    630\u001b[0m \u001b[1;33m\u001b[0m\u001b[0m\n\u001b[0;32m    631\u001b[0m         \u001b[1;32mif\u001b[0m \u001b[0mhasattr\u001b[0m\u001b[1;33m(\u001b[0m\u001b[0mscore\u001b[0m\u001b[1;33m,\u001b[0m \u001b[1;34m'item'\u001b[0m\u001b[1;33m)\u001b[0m\u001b[1;33m:\u001b[0m\u001b[1;33m\u001b[0m\u001b[0m\n",
      "\u001b[1;32m~\\Anaconda3\\envs\\ml\\lib\\site-packages\\sklearn\\metrics\\scorer.py\u001b[0m in \u001b[0;36m_passthrough_scorer\u001b[1;34m(estimator, *args, **kwargs)\u001b[0m\n\u001b[0;32m    238\u001b[0m \u001b[1;32mdef\u001b[0m \u001b[0m_passthrough_scorer\u001b[0m\u001b[1;33m(\u001b[0m\u001b[0mestimator\u001b[0m\u001b[1;33m,\u001b[0m \u001b[1;33m*\u001b[0m\u001b[0margs\u001b[0m\u001b[1;33m,\u001b[0m \u001b[1;33m**\u001b[0m\u001b[0mkwargs\u001b[0m\u001b[1;33m)\u001b[0m\u001b[1;33m:\u001b[0m\u001b[1;33m\u001b[0m\u001b[0m\n\u001b[0;32m    239\u001b[0m     \u001b[1;34m\"\"\"Function that wraps estimator.score\"\"\"\u001b[0m\u001b[1;33m\u001b[0m\u001b[0m\n\u001b[1;32m--> 240\u001b[1;33m     \u001b[1;32mreturn\u001b[0m \u001b[0mestimator\u001b[0m\u001b[1;33m.\u001b[0m\u001b[0mscore\u001b[0m\u001b[1;33m(\u001b[0m\u001b[1;33m*\u001b[0m\u001b[0margs\u001b[0m\u001b[1;33m,\u001b[0m \u001b[1;33m**\u001b[0m\u001b[0mkwargs\u001b[0m\u001b[1;33m)\u001b[0m\u001b[1;33m\u001b[0m\u001b[0m\n\u001b[0m\u001b[0;32m    241\u001b[0m \u001b[1;33m\u001b[0m\u001b[0m\n\u001b[0;32m    242\u001b[0m \u001b[1;33m\u001b[0m\u001b[0m\n",
      "\u001b[1;32m~\\Anaconda3\\envs\\ml\\lib\\site-packages\\sklearn\\base.py\u001b[0m in \u001b[0;36mscore\u001b[1;34m(self, X, y, sample_weight)\u001b[0m\n\u001b[0;32m    355\u001b[0m         \"\"\"\n\u001b[0;32m    356\u001b[0m         \u001b[1;32mfrom\u001b[0m \u001b[1;33m.\u001b[0m\u001b[0mmetrics\u001b[0m \u001b[1;32mimport\u001b[0m \u001b[0maccuracy_score\u001b[0m\u001b[1;33m\u001b[0m\u001b[0m\n\u001b[1;32m--> 357\u001b[1;33m         \u001b[1;32mreturn\u001b[0m \u001b[0maccuracy_score\u001b[0m\u001b[1;33m(\u001b[0m\u001b[0my\u001b[0m\u001b[1;33m,\u001b[0m \u001b[0mself\u001b[0m\u001b[1;33m.\u001b[0m\u001b[0mpredict\u001b[0m\u001b[1;33m(\u001b[0m\u001b[0mX\u001b[0m\u001b[1;33m)\u001b[0m\u001b[1;33m,\u001b[0m \u001b[0msample_weight\u001b[0m\u001b[1;33m=\u001b[0m\u001b[0msample_weight\u001b[0m\u001b[1;33m)\u001b[0m\u001b[1;33m\u001b[0m\u001b[0m\n\u001b[0m\u001b[0;32m    358\u001b[0m \u001b[1;33m\u001b[0m\u001b[0m\n\u001b[0;32m    359\u001b[0m \u001b[1;33m\u001b[0m\u001b[0m\n",
      "\u001b[1;32m~\\Anaconda3\\envs\\ml\\lib\\site-packages\\sklearn\\ensemble\\forest.py\u001b[0m in \u001b[0;36mpredict\u001b[1;34m(self, X)\u001b[0m\n\u001b[0;32m    543\u001b[0m             \u001b[0mThe\u001b[0m \u001b[0mpredicted\u001b[0m \u001b[0mclasses\u001b[0m\u001b[1;33m.\u001b[0m\u001b[1;33m\u001b[0m\u001b[0m\n\u001b[0;32m    544\u001b[0m         \"\"\"\n\u001b[1;32m--> 545\u001b[1;33m         \u001b[0mproba\u001b[0m \u001b[1;33m=\u001b[0m \u001b[0mself\u001b[0m\u001b[1;33m.\u001b[0m\u001b[0mpredict_proba\u001b[0m\u001b[1;33m(\u001b[0m\u001b[0mX\u001b[0m\u001b[1;33m)\u001b[0m\u001b[1;33m\u001b[0m\u001b[0m\n\u001b[0m\u001b[0;32m    546\u001b[0m \u001b[1;33m\u001b[0m\u001b[0m\n\u001b[0;32m    547\u001b[0m         \u001b[1;32mif\u001b[0m \u001b[0mself\u001b[0m\u001b[1;33m.\u001b[0m\u001b[0mn_outputs_\u001b[0m \u001b[1;33m==\u001b[0m \u001b[1;36m1\u001b[0m\u001b[1;33m:\u001b[0m\u001b[1;33m\u001b[0m\u001b[0m\n",
      "\u001b[1;32m~\\Anaconda3\\envs\\ml\\lib\\site-packages\\sklearn\\ensemble\\forest.py\u001b[0m in \u001b[0;36mpredict_proba\u001b[1;34m(self, X)\u001b[0m\n\u001b[0;32m    599\u001b[0m             delayed(_accumulate_prediction)(e.predict_proba, X, all_proba,\n\u001b[0;32m    600\u001b[0m                                             lock)\n\u001b[1;32m--> 601\u001b[1;33m             for e in self.estimators_)\n\u001b[0m\u001b[0;32m    602\u001b[0m \u001b[1;33m\u001b[0m\u001b[0m\n\u001b[0;32m    603\u001b[0m         \u001b[1;32mfor\u001b[0m \u001b[0mproba\u001b[0m \u001b[1;32min\u001b[0m \u001b[0mall_proba\u001b[0m\u001b[1;33m:\u001b[0m\u001b[1;33m\u001b[0m\u001b[0m\n",
      "\u001b[1;32m~\\Anaconda3\\envs\\ml\\lib\\site-packages\\joblib\\parallel.py\u001b[0m in \u001b[0;36m__call__\u001b[1;34m(self, iterable)\u001b[0m\n\u001b[0;32m   1004\u001b[0m                 \u001b[0mself\u001b[0m\u001b[1;33m.\u001b[0m\u001b[0m_iterating\u001b[0m \u001b[1;33m=\u001b[0m \u001b[0mself\u001b[0m\u001b[1;33m.\u001b[0m\u001b[0m_original_iterator\u001b[0m \u001b[1;32mis\u001b[0m \u001b[1;32mnot\u001b[0m \u001b[1;32mNone\u001b[0m\u001b[1;33m\u001b[0m\u001b[0m\n\u001b[0;32m   1005\u001b[0m \u001b[1;33m\u001b[0m\u001b[0m\n\u001b[1;32m-> 1006\u001b[1;33m             \u001b[1;32mwhile\u001b[0m \u001b[0mself\u001b[0m\u001b[1;33m.\u001b[0m\u001b[0mdispatch_one_batch\u001b[0m\u001b[1;33m(\u001b[0m\u001b[0miterator\u001b[0m\u001b[1;33m)\u001b[0m\u001b[1;33m:\u001b[0m\u001b[1;33m\u001b[0m\u001b[0m\n\u001b[0m\u001b[0;32m   1007\u001b[0m                 \u001b[1;32mpass\u001b[0m\u001b[1;33m\u001b[0m\u001b[0m\n\u001b[0;32m   1008\u001b[0m \u001b[1;33m\u001b[0m\u001b[0m\n",
      "\u001b[1;32m~\\Anaconda3\\envs\\ml\\lib\\site-packages\\joblib\\parallel.py\u001b[0m in \u001b[0;36mdispatch_one_batch\u001b[1;34m(self, iterator)\u001b[0m\n\u001b[0;32m    832\u001b[0m                 \u001b[1;32mreturn\u001b[0m \u001b[1;32mFalse\u001b[0m\u001b[1;33m\u001b[0m\u001b[0m\n\u001b[0;32m    833\u001b[0m             \u001b[1;32melse\u001b[0m\u001b[1;33m:\u001b[0m\u001b[1;33m\u001b[0m\u001b[0m\n\u001b[1;32m--> 834\u001b[1;33m                 \u001b[0mself\u001b[0m\u001b[1;33m.\u001b[0m\u001b[0m_dispatch\u001b[0m\u001b[1;33m(\u001b[0m\u001b[0mtasks\u001b[0m\u001b[1;33m)\u001b[0m\u001b[1;33m\u001b[0m\u001b[0m\n\u001b[0m\u001b[0;32m    835\u001b[0m                 \u001b[1;32mreturn\u001b[0m \u001b[1;32mTrue\u001b[0m\u001b[1;33m\u001b[0m\u001b[0m\n\u001b[0;32m    836\u001b[0m \u001b[1;33m\u001b[0m\u001b[0m\n",
      "\u001b[1;32m~\\Anaconda3\\envs\\ml\\lib\\site-packages\\joblib\\parallel.py\u001b[0m in \u001b[0;36m_dispatch\u001b[1;34m(self, batch)\u001b[0m\n\u001b[0;32m    751\u001b[0m         \u001b[1;32mwith\u001b[0m \u001b[0mself\u001b[0m\u001b[1;33m.\u001b[0m\u001b[0m_lock\u001b[0m\u001b[1;33m:\u001b[0m\u001b[1;33m\u001b[0m\u001b[0m\n\u001b[0;32m    752\u001b[0m             \u001b[0mjob_idx\u001b[0m \u001b[1;33m=\u001b[0m \u001b[0mlen\u001b[0m\u001b[1;33m(\u001b[0m\u001b[0mself\u001b[0m\u001b[1;33m.\u001b[0m\u001b[0m_jobs\u001b[0m\u001b[1;33m)\u001b[0m\u001b[1;33m\u001b[0m\u001b[0m\n\u001b[1;32m--> 753\u001b[1;33m             \u001b[0mjob\u001b[0m \u001b[1;33m=\u001b[0m \u001b[0mself\u001b[0m\u001b[1;33m.\u001b[0m\u001b[0m_backend\u001b[0m\u001b[1;33m.\u001b[0m\u001b[0mapply_async\u001b[0m\u001b[1;33m(\u001b[0m\u001b[0mbatch\u001b[0m\u001b[1;33m,\u001b[0m \u001b[0mcallback\u001b[0m\u001b[1;33m=\u001b[0m\u001b[0mcb\u001b[0m\u001b[1;33m)\u001b[0m\u001b[1;33m\u001b[0m\u001b[0m\n\u001b[0m\u001b[0;32m    754\u001b[0m             \u001b[1;31m# A job can complete so quickly than its callback is\u001b[0m\u001b[1;33m\u001b[0m\u001b[1;33m\u001b[0m\u001b[0m\n\u001b[0;32m    755\u001b[0m             \u001b[1;31m# called before we get here, causing self._jobs to\u001b[0m\u001b[1;33m\u001b[0m\u001b[1;33m\u001b[0m\u001b[0m\n",
      "\u001b[1;32m~\\Anaconda3\\envs\\ml\\lib\\site-packages\\joblib\\_parallel_backends.py\u001b[0m in \u001b[0;36mapply_async\u001b[1;34m(self, func, callback)\u001b[0m\n\u001b[0;32m    199\u001b[0m     \u001b[1;32mdef\u001b[0m \u001b[0mapply_async\u001b[0m\u001b[1;33m(\u001b[0m\u001b[0mself\u001b[0m\u001b[1;33m,\u001b[0m \u001b[0mfunc\u001b[0m\u001b[1;33m,\u001b[0m \u001b[0mcallback\u001b[0m\u001b[1;33m=\u001b[0m\u001b[1;32mNone\u001b[0m\u001b[1;33m)\u001b[0m\u001b[1;33m:\u001b[0m\u001b[1;33m\u001b[0m\u001b[0m\n\u001b[0;32m    200\u001b[0m         \u001b[1;34m\"\"\"Schedule a func to be run\"\"\"\u001b[0m\u001b[1;33m\u001b[0m\u001b[0m\n\u001b[1;32m--> 201\u001b[1;33m         \u001b[0mresult\u001b[0m \u001b[1;33m=\u001b[0m \u001b[0mImmediateResult\u001b[0m\u001b[1;33m(\u001b[0m\u001b[0mfunc\u001b[0m\u001b[1;33m)\u001b[0m\u001b[1;33m\u001b[0m\u001b[0m\n\u001b[0m\u001b[0;32m    202\u001b[0m         \u001b[1;32mif\u001b[0m \u001b[0mcallback\u001b[0m\u001b[1;33m:\u001b[0m\u001b[1;33m\u001b[0m\u001b[0m\n\u001b[0;32m    203\u001b[0m             \u001b[0mcallback\u001b[0m\u001b[1;33m(\u001b[0m\u001b[0mresult\u001b[0m\u001b[1;33m)\u001b[0m\u001b[1;33m\u001b[0m\u001b[0m\n",
      "\u001b[1;32m~\\Anaconda3\\envs\\ml\\lib\\site-packages\\joblib\\_parallel_backends.py\u001b[0m in \u001b[0;36m__init__\u001b[1;34m(self, batch)\u001b[0m\n\u001b[0;32m    580\u001b[0m         \u001b[1;31m# Don't delay the application, to avoid keeping the input\u001b[0m\u001b[1;33m\u001b[0m\u001b[1;33m\u001b[0m\u001b[0m\n\u001b[0;32m    581\u001b[0m         \u001b[1;31m# arguments in memory\u001b[0m\u001b[1;33m\u001b[0m\u001b[1;33m\u001b[0m\u001b[0m\n\u001b[1;32m--> 582\u001b[1;33m         \u001b[0mself\u001b[0m\u001b[1;33m.\u001b[0m\u001b[0mresults\u001b[0m \u001b[1;33m=\u001b[0m \u001b[0mbatch\u001b[0m\u001b[1;33m(\u001b[0m\u001b[1;33m)\u001b[0m\u001b[1;33m\u001b[0m\u001b[0m\n\u001b[0m\u001b[0;32m    583\u001b[0m \u001b[1;33m\u001b[0m\u001b[0m\n\u001b[0;32m    584\u001b[0m     \u001b[1;32mdef\u001b[0m \u001b[0mget\u001b[0m\u001b[1;33m(\u001b[0m\u001b[0mself\u001b[0m\u001b[1;33m)\u001b[0m\u001b[1;33m:\u001b[0m\u001b[1;33m\u001b[0m\u001b[0m\n",
      "\u001b[1;32m~\\Anaconda3\\envs\\ml\\lib\\site-packages\\joblib\\parallel.py\u001b[0m in \u001b[0;36m__call__\u001b[1;34m(self)\u001b[0m\n\u001b[0;32m    254\u001b[0m         \u001b[1;32mwith\u001b[0m \u001b[0mparallel_backend\u001b[0m\u001b[1;33m(\u001b[0m\u001b[0mself\u001b[0m\u001b[1;33m.\u001b[0m\u001b[0m_backend\u001b[0m\u001b[1;33m,\u001b[0m \u001b[0mn_jobs\u001b[0m\u001b[1;33m=\u001b[0m\u001b[0mself\u001b[0m\u001b[1;33m.\u001b[0m\u001b[0m_n_jobs\u001b[0m\u001b[1;33m)\u001b[0m\u001b[1;33m:\u001b[0m\u001b[1;33m\u001b[0m\u001b[0m\n\u001b[0;32m    255\u001b[0m             return [func(*args, **kwargs)\n\u001b[1;32m--> 256\u001b[1;33m                     for func, args, kwargs in self.items]\n\u001b[0m\u001b[0;32m    257\u001b[0m \u001b[1;33m\u001b[0m\u001b[0m\n\u001b[0;32m    258\u001b[0m     \u001b[1;32mdef\u001b[0m \u001b[0m__len__\u001b[0m\u001b[1;33m(\u001b[0m\u001b[0mself\u001b[0m\u001b[1;33m)\u001b[0m\u001b[1;33m:\u001b[0m\u001b[1;33m\u001b[0m\u001b[0m\n",
      "\u001b[1;32m~\\Anaconda3\\envs\\ml\\lib\\site-packages\\joblib\\parallel.py\u001b[0m in \u001b[0;36m<listcomp>\u001b[1;34m(.0)\u001b[0m\n\u001b[0;32m    254\u001b[0m         \u001b[1;32mwith\u001b[0m \u001b[0mparallel_backend\u001b[0m\u001b[1;33m(\u001b[0m\u001b[0mself\u001b[0m\u001b[1;33m.\u001b[0m\u001b[0m_backend\u001b[0m\u001b[1;33m,\u001b[0m \u001b[0mn_jobs\u001b[0m\u001b[1;33m=\u001b[0m\u001b[0mself\u001b[0m\u001b[1;33m.\u001b[0m\u001b[0m_n_jobs\u001b[0m\u001b[1;33m)\u001b[0m\u001b[1;33m:\u001b[0m\u001b[1;33m\u001b[0m\u001b[0m\n\u001b[0;32m    255\u001b[0m             return [func(*args, **kwargs)\n\u001b[1;32m--> 256\u001b[1;33m                     for func, args, kwargs in self.items]\n\u001b[0m\u001b[0;32m    257\u001b[0m \u001b[1;33m\u001b[0m\u001b[0m\n\u001b[0;32m    258\u001b[0m     \u001b[1;32mdef\u001b[0m \u001b[0m__len__\u001b[0m\u001b[1;33m(\u001b[0m\u001b[0mself\u001b[0m\u001b[1;33m)\u001b[0m\u001b[1;33m:\u001b[0m\u001b[1;33m\u001b[0m\u001b[0m\n",
      "\u001b[1;32m~\\Anaconda3\\envs\\ml\\lib\\site-packages\\sklearn\\ensemble\\forest.py\u001b[0m in \u001b[0;36m_accumulate_prediction\u001b[1;34m(predict, X, out, lock)\u001b[0m\n\u001b[0;32m    392\u001b[0m     \u001b[0mcomplains\u001b[0m \u001b[0mthat\u001b[0m \u001b[0mit\u001b[0m \u001b[0mcannot\u001b[0m \u001b[0mpickle\u001b[0m \u001b[0mit\u001b[0m \u001b[0mwhen\u001b[0m \u001b[0mplaced\u001b[0m \u001b[0mthere\u001b[0m\u001b[1;33m.\u001b[0m\u001b[1;33m\u001b[0m\u001b[0m\n\u001b[0;32m    393\u001b[0m     \"\"\"\n\u001b[1;32m--> 394\u001b[1;33m     \u001b[0mprediction\u001b[0m \u001b[1;33m=\u001b[0m \u001b[0mpredict\u001b[0m\u001b[1;33m(\u001b[0m\u001b[0mX\u001b[0m\u001b[1;33m,\u001b[0m \u001b[0mcheck_input\u001b[0m\u001b[1;33m=\u001b[0m\u001b[1;32mFalse\u001b[0m\u001b[1;33m)\u001b[0m\u001b[1;33m\u001b[0m\u001b[0m\n\u001b[0m\u001b[0;32m    395\u001b[0m     \u001b[1;32mwith\u001b[0m \u001b[0mlock\u001b[0m\u001b[1;33m:\u001b[0m\u001b[1;33m\u001b[0m\u001b[0m\n\u001b[0;32m    396\u001b[0m         \u001b[1;32mif\u001b[0m \u001b[0mlen\u001b[0m\u001b[1;33m(\u001b[0m\u001b[0mout\u001b[0m\u001b[1;33m)\u001b[0m \u001b[1;33m==\u001b[0m \u001b[1;36m1\u001b[0m\u001b[1;33m:\u001b[0m\u001b[1;33m\u001b[0m\u001b[0m\n",
      "\u001b[1;32m~\\Anaconda3\\envs\\ml\\lib\\site-packages\\sklearn\\tree\\tree.py\u001b[0m in \u001b[0;36mpredict_proba\u001b[1;34m(self, X, check_input)\u001b[0m\n\u001b[0;32m    846\u001b[0m         \u001b[0mcheck_is_fitted\u001b[0m\u001b[1;33m(\u001b[0m\u001b[0mself\u001b[0m\u001b[1;33m,\u001b[0m \u001b[1;34m'tree_'\u001b[0m\u001b[1;33m)\u001b[0m\u001b[1;33m\u001b[0m\u001b[0m\n\u001b[0;32m    847\u001b[0m         \u001b[0mX\u001b[0m \u001b[1;33m=\u001b[0m \u001b[0mself\u001b[0m\u001b[1;33m.\u001b[0m\u001b[0m_validate_X_predict\u001b[0m\u001b[1;33m(\u001b[0m\u001b[0mX\u001b[0m\u001b[1;33m,\u001b[0m \u001b[0mcheck_input\u001b[0m\u001b[1;33m)\u001b[0m\u001b[1;33m\u001b[0m\u001b[0m\n\u001b[1;32m--> 848\u001b[1;33m         \u001b[0mproba\u001b[0m \u001b[1;33m=\u001b[0m \u001b[0mself\u001b[0m\u001b[1;33m.\u001b[0m\u001b[0mtree_\u001b[0m\u001b[1;33m.\u001b[0m\u001b[0mpredict\u001b[0m\u001b[1;33m(\u001b[0m\u001b[0mX\u001b[0m\u001b[1;33m)\u001b[0m\u001b[1;33m\u001b[0m\u001b[0m\n\u001b[0m\u001b[0;32m    849\u001b[0m \u001b[1;33m\u001b[0m\u001b[0m\n\u001b[0;32m    850\u001b[0m         \u001b[1;32mif\u001b[0m \u001b[0mself\u001b[0m\u001b[1;33m.\u001b[0m\u001b[0mn_outputs_\u001b[0m \u001b[1;33m==\u001b[0m \u001b[1;36m1\u001b[0m\u001b[1;33m:\u001b[0m\u001b[1;33m\u001b[0m\u001b[0m\n",
      "\u001b[1;31mKeyboardInterrupt\u001b[0m: "
     ]
    }
   ],
   "source": [
    "gs.fit(x_train, y_train)"
   ]
  },
  {
   "cell_type": "code",
   "execution_count": 124,
   "metadata": {},
   "outputs": [
    {
     "name": "stderr",
     "output_type": "stream",
     "text": [
      "C:\\Users\\vibhu\\Anaconda3\\envs\\ml\\lib\\site-packages\\sklearn\\ensemble\\forest.py:245: FutureWarning: The default value of n_estimators will change from 10 in version 0.20 to 100 in 0.22.\n",
      "  \"10 in version 0.20 to 100 in 0.22.\", FutureWarning)\n"
     ]
    },
    {
     "data": {
      "text/plain": [
       "RandomForestClassifier(bootstrap=True, class_weight=None, criterion='gini',\n",
       "                       max_depth=None, max_features='auto', max_leaf_nodes=None,\n",
       "                       min_impurity_decrease=0.0, min_impurity_split=None,\n",
       "                       min_samples_leaf=1, min_samples_split=2,\n",
       "                       min_weight_fraction_leaf=0.0, n_estimators=10,\n",
       "                       n_jobs=None, oob_score=False, random_state=None,\n",
       "                       verbose=0, warm_start=False)"
      ]
     },
     "execution_count": 124,
     "metadata": {},
     "output_type": "execute_result"
    }
   ],
   "source": [
    "clf.fit(x_train, y_train)"
   ]
  },
  {
   "cell_type": "code",
   "execution_count": 125,
   "metadata": {},
   "outputs": [
    {
     "data": {
      "text/plain": [
       "0.8686868686868687"
      ]
     },
     "execution_count": 125,
     "metadata": {},
     "output_type": "execute_result"
    }
   ],
   "source": [
    "# y_pred = clf.predict(x_test)\n",
    "clf.score(x_test, y_test)"
   ]
  },
  {
   "cell_type": "code",
   "execution_count": 126,
   "metadata": {},
   "outputs": [
    {
     "data": {
      "text/plain": [
       "array([2, 2, 1, 0, 1, 1, 2, 0, 0, 1, 1, 0, 0, 1, 1, 2, 2, 2, 0, 1, 2, 2,\n",
       "       2, 1, 1, 2, 1, 0, 0, 0, 0, 2, 0, 2, 0, 1, 0, 1, 2, 1, 1, 1, 0, 0,\n",
       "       0, 1, 1, 2, 1, 1, 0, 0, 0, 2, 1, 0, 1, 1, 2, 1, 2, 1, 1, 1, 1, 1,\n",
       "       1, 2, 0, 1, 0, 0, 1, 0, 1, 2, 0, 2, 1, 0, 1, 0, 0, 1, 1, 0, 1, 1,\n",
       "       0, 1, 0, 1, 1, 2, 1, 1, 2, 1, 1, 0, 2, 0, 1, 1, 1, 1, 1, 1, 0, 0,\n",
       "       1, 0, 2, 2, 1, 0, 2, 0, 1, 1, 1, 0, 0, 1, 2, 0, 1, 0, 1, 0, 1, 1,\n",
       "       1, 1, 1, 1, 0, 1, 1, 2, 1, 2, 0, 2, 2, 2, 1, 1, 2, 2, 2, 2, 1, 0,\n",
       "       1, 0, 0, 2, 1, 0, 1, 1, 0, 0, 1, 1, 0, 0, 1, 2, 1, 1, 2, 1, 1, 0,\n",
       "       1, 1, 0, 1, 0, 1, 0, 1, 1, 1, 1, 2, 2, 1, 0, 0, 1, 2, 1, 0, 1, 0,\n",
       "       1, 0, 0, 0, 0, 2, 2, 1, 1, 2, 2, 0, 0, 1, 0, 0, 0, 0, 1, 1, 0, 0,\n",
       "       1, 1, 1, 1, 1, 2, 0, 0, 1, 1, 1, 2, 0, 1, 1, 0, 0, 1, 0, 1, 1, 0,\n",
       "       1, 2, 2, 1, 0, 0, 1, 2, 2, 1, 1, 1, 2, 0, 1, 2, 1, 2, 1, 1, 0, 0,\n",
       "       0, 1, 1, 1, 1, 0, 2, 1, 1, 1, 1, 0, 1, 1, 0, 2, 0, 2, 2, 2, 1, 0,\n",
       "       1, 1, 0, 0, 2, 1, 1, 0, 1, 1, 2, 1, 1, 1, 0, 1, 2, 0, 0, 2, 1, 1,\n",
       "       1, 1, 0, 1, 1, 1, 2, 2, 1, 1, 2, 2, 1, 2, 0, 0, 1, 1, 1, 2, 1, 0,\n",
       "       1, 2, 0, 0, 1, 0, 1, 1, 0, 0, 1, 2, 0, 1, 0, 0, 0, 1, 1, 0, 1, 1,\n",
       "       0, 1, 1, 0, 1, 0, 0, 0, 1, 2, 0, 1, 2, 2, 1, 2, 1, 0, 1, 0, 2, 1,\n",
       "       0, 1, 1, 2, 1, 0, 0, 0, 0, 2, 0, 1, 1, 2, 1, 1, 0, 2, 0, 1, 1, 1,\n",
       "       2, 1, 1, 1, 0, 1, 1, 0, 1, 1, 1, 2, 0, 1, 0, 1, 0, 1, 2, 0, 0, 1,\n",
       "       0, 1, 1, 1, 1, 1, 1, 2, 0, 1, 1, 1, 0, 1, 1, 1, 0, 2, 1, 1, 2, 1,\n",
       "       0, 2, 1, 1, 2, 0, 2, 2, 1, 0, 1, 0, 1, 0, 2, 1, 0, 2, 2, 0, 1, 0,\n",
       "       1, 0, 1, 1, 0, 1, 1, 0, 0, 0, 1, 1, 0, 1, 0, 1, 1, 0, 1, 0, 1, 0,\n",
       "       0, 2, 0, 0, 0, 1, 1, 1, 1, 2, 1, 1, 0, 0, 1, 1, 1, 1, 1, 1, 1, 2,\n",
       "       1, 0, 1, 1, 2, 1, 1, 2, 1, 0, 1, 1, 1, 0, 1, 0, 0, 1, 1, 0, 0, 1,\n",
       "       1, 2, 1, 1, 2, 1, 0, 0, 1, 1, 1, 0, 1, 2, 2, 0, 1, 2, 1, 1, 0, 2,\n",
       "       0, 0, 0, 0, 0, 0, 1, 1, 0, 1, 2, 0, 2, 2, 2, 1, 1, 0, 1, 1, 2, 1,\n",
       "       1, 0, 1, 1, 0, 2, 2, 1, 0, 1, 1, 2, 1, 0, 1, 2, 1, 0, 2, 1, 0, 2,\n",
       "       0, 1, 1, 1, 0, 2, 2, 1, 0, 1, 2, 1, 0, 1, 1, 1, 1, 1, 2, 1, 0, 2,\n",
       "       1, 1, 0, 1, 1, 2, 2, 2, 1, 0, 0, 2, 1, 0, 1, 1, 0, 1, 2, 1, 2, 1,\n",
       "       1, 0, 2, 2, 0, 0, 0, 1, 0, 0, 0, 2, 0, 2, 1, 2, 1, 1, 1, 0, 1, 1,\n",
       "       1, 1, 1, 0, 2, 0, 0, 0, 1, 1, 2, 0, 1, 2, 1, 0, 1, 1, 2, 2, 0, 1,\n",
       "       1, 1, 1, 1, 1, 1, 1, 1, 0, 2, 0])"
      ]
     },
     "execution_count": 126,
     "metadata": {},
     "output_type": "execute_result"
    }
   ],
   "source": [
    "clf.predict(x_test)"
   ]
  },
  {
   "cell_type": "code",
   "execution_count": 128,
   "metadata": {},
   "outputs": [],
   "source": [
    "import pickle\n",
    "file = open('C:/Users/vibhu/Downloads/random_forest_regression_model.pkl', 'wb')\n",
    "pickle.dump(clf, file)"
   ]
  },
  {
   "cell_type": "code",
   "execution_count": null,
   "metadata": {},
   "outputs": [],
   "source": []
  }
 ],
 "metadata": {
  "kernelspec": {
   "display_name": "Python 3",
   "language": "python",
   "name": "python3"
  },
  "language_info": {
   "codemirror_mode": {
    "name": "ipython",
    "version": 3
   },
   "file_extension": ".py",
   "mimetype": "text/x-python",
   "name": "python",
   "nbconvert_exporter": "python",
   "pygments_lexer": "ipython3",
   "version": "3.7.6"
  }
 },
 "nbformat": 4,
 "nbformat_minor": 2
}
